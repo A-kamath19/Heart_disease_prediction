{
  "nbformat": 4,
  "nbformat_minor": 0,
  "metadata": {
    "colab": {
      "name": "Heart Disease Prediction.ipynb",
      "provenance": [],
      "collapsed_sections": []
    },
    "kernelspec": {
      "name": "python3",
      "display_name": "Python 3"
    },
    "language_info": {
      "name": "python"
    }
  },
  "cells": [
    {
      "cell_type": "code",
      "metadata": {
        "colab": {
          "base_uri": "https://localhost:8080/"
        },
        "id": "8ZW6oVRxauXN",
        "outputId": "1a0f604a-15cd-487b-d642-a1eb7bd3b945"
      },
      "source": [
        "from google.colab import drive \n",
        "drive.mount('/content/drive',force_remount=True)"
      ],
      "execution_count": null,
      "outputs": [
        {
          "output_type": "stream",
          "name": "stdout",
          "text": [
            "Mounted at /content/drive\n"
          ]
        }
      ]
    },
    {
      "cell_type": "code",
      "metadata": {
        "colab": {
          "base_uri": "https://localhost:8080/"
        },
        "id": "dIC-syF2aytO",
        "outputId": "2e44ca50-2e25-42ea-a5d2-75e2e0e32912"
      },
      "source": [
        "!ls drive/My\\ Drive/machine-learning/projects/arrythmia"
      ],
      "execution_count": null,
      "outputs": [
        {
          "output_type": "stream",
          "name": "stdout",
          "text": [
            "data\n"
          ]
        }
      ]
    },
    {
      "cell_type": "code",
      "metadata": {
        "colab": {
          "base_uri": "https://localhost:8080/"
        },
        "id": "dISOVLDUayps",
        "outputId": "b34192f4-0437-4017-e03c-c1968bb05b95"
      },
      "source": [
        "%cd drive/My\\ Drive/machine-learning/projects/arrythmia"
      ],
      "execution_count": null,
      "outputs": [
        {
          "output_type": "stream",
          "name": "stdout",
          "text": [
            "/content/drive/My Drive/machine-learning/projects/arrythmia\n"
          ]
        }
      ]
    },
    {
      "cell_type": "code",
      "metadata": {
        "id": "rmxCPdi1aynY"
      },
      "source": [
        "import numpy as np\n",
        "import matplotlib.pyplot as plt\n",
        "import pandas as pd\n",
        "from sklearn.preprocessing import StandardScaler"
      ],
      "execution_count": null,
      "outputs": []
    },
    {
      "cell_type": "code",
      "metadata": {
        "id": "cl3P24Z5aylI"
      },
      "source": [
        "data = pd.read_csv('./data/arrhythmia.csv')"
      ],
      "execution_count": null,
      "outputs": []
    },
    {
      "cell_type": "code",
      "metadata": {
        "colab": {
          "base_uri": "https://localhost:8080/"
        },
        "id": "AfSkmtpktUFu",
        "outputId": "1d72e1a6-67f9-4390-ee8a-4f4f31c0a44c"
      },
      "source": [
        "data.shape"
      ],
      "execution_count": null,
      "outputs": [
        {
          "output_type": "execute_result",
          "data": {
            "text/plain": [
              "(452, 280)"
            ]
          },
          "metadata": {},
          "execution_count": 7
        }
      ]
    },
    {
      "cell_type": "code",
      "metadata": {
        "colab": {
          "base_uri": "https://localhost:8080/",
          "height": 273
        },
        "id": "GsAoqKppaygJ",
        "outputId": "a5bdf9fd-185e-44ab-e98f-693d21b3a477"
      },
      "source": [
        "data.head()"
      ],
      "execution_count": null,
      "outputs": [
        {
          "output_type": "execute_result",
          "data": {
            "text/html": [
              "<div>\n",
              "<style scoped>\n",
              "    .dataframe tbody tr th:only-of-type {\n",
              "        vertical-align: middle;\n",
              "    }\n",
              "\n",
              "    .dataframe tbody tr th {\n",
              "        vertical-align: top;\n",
              "    }\n",
              "\n",
              "    .dataframe thead th {\n",
              "        text-align: right;\n",
              "    }\n",
              "</style>\n",
              "<table border=\"1\" class=\"dataframe\">\n",
              "  <thead>\n",
              "    <tr style=\"text-align: right;\">\n",
              "      <th></th>\n",
              "      <th>age</th>\n",
              "      <th>sex</th>\n",
              "      <th>height</th>\n",
              "      <th>weight</th>\n",
              "      <th>QRSduration</th>\n",
              "      <th>PRinterval</th>\n",
              "      <th>Q-Tinterval</th>\n",
              "      <th>Tinterval</th>\n",
              "      <th>Pinterval</th>\n",
              "      <th>QRS</th>\n",
              "      <th>T</th>\n",
              "      <th>P</th>\n",
              "      <th>QRST</th>\n",
              "      <th>J</th>\n",
              "      <th>heartrate</th>\n",
              "      <th>chDI_Qwave</th>\n",
              "      <th>chDI_Rwave</th>\n",
              "      <th>chDI_Swave</th>\n",
              "      <th>chDI_RPwave</th>\n",
              "      <th>chDI_SPwave</th>\n",
              "      <th>chDI_intrinsicReflecttions</th>\n",
              "      <th>chDI_RRwaveExists</th>\n",
              "      <th>chDI_DD_RRwaveExists</th>\n",
              "      <th>chDI_RPwaveExists</th>\n",
              "      <th>chDI_DD_RPwaveExists</th>\n",
              "      <th>chDI_RTwaveExists</th>\n",
              "      <th>chDI_DD_RTwaveExists</th>\n",
              "      <th>chDII_Qwave</th>\n",
              "      <th>chDII_Rwave</th>\n",
              "      <th>chDII_Swave</th>\n",
              "      <th>chDII_RPwave</th>\n",
              "      <th>chDII_SPwave</th>\n",
              "      <th>chDII_intrinsicReflecttions</th>\n",
              "      <th>chDII_RRwaveExists</th>\n",
              "      <th>chDII_DD_RRwaveExists</th>\n",
              "      <th>chDII_RPwaveExists</th>\n",
              "      <th>chDII_DD_RPwaveExists</th>\n",
              "      <th>chDII_RTwaveExists</th>\n",
              "      <th>chDII_DD_RTwaveExists</th>\n",
              "      <th>chDIII_Qwave</th>\n",
              "      <th>...</th>\n",
              "      <th>chV3_QwaveAmp</th>\n",
              "      <th>chV3_RwaveAmp</th>\n",
              "      <th>chV3_SwaveAmp</th>\n",
              "      <th>chV3_RPwaveAmp</th>\n",
              "      <th>chV3_SPwaveAmp</th>\n",
              "      <th>chV3_PwaveAmp</th>\n",
              "      <th>chV3_TwaveAmp</th>\n",
              "      <th>chV3_QRSA</th>\n",
              "      <th>chV3_QRSTA</th>\n",
              "      <th>chV4_JJwaveAmp</th>\n",
              "      <th>chV4_QwaveAmp</th>\n",
              "      <th>chV4_RwaveAmp</th>\n",
              "      <th>chV4_SwaveAmp</th>\n",
              "      <th>chV4_RPwaveAmp</th>\n",
              "      <th>chV4_SPwaveAmp</th>\n",
              "      <th>chV4_PwaveAmp</th>\n",
              "      <th>chV4_TwaveAmp</th>\n",
              "      <th>chV4_QRSA</th>\n",
              "      <th>chV4_QRSTA</th>\n",
              "      <th>chV5_JJwaveAmp</th>\n",
              "      <th>chV5_QwaveAmp</th>\n",
              "      <th>chV5_RwaveAmp</th>\n",
              "      <th>chV5_SwaveAmp</th>\n",
              "      <th>chV5_RPwaveAmp</th>\n",
              "      <th>chV5_SPwaveAmp</th>\n",
              "      <th>chV5_PwaveAmp</th>\n",
              "      <th>chV5_TwaveAmp</th>\n",
              "      <th>chV5_QRSA</th>\n",
              "      <th>chV5_QRSTA</th>\n",
              "      <th>chV6_JJwaveAmp</th>\n",
              "      <th>chV6_QwaveAmp</th>\n",
              "      <th>chV6_RwaveAmp</th>\n",
              "      <th>chV6_SwaveAmp</th>\n",
              "      <th>chV6_RPwaveAmp</th>\n",
              "      <th>chV6_SPwaveAmp</th>\n",
              "      <th>chV6_PwaveAmp</th>\n",
              "      <th>chV6_TwaveAmp</th>\n",
              "      <th>chV6_QRSA</th>\n",
              "      <th>chV6_QRSTA</th>\n",
              "      <th>class</th>\n",
              "    </tr>\n",
              "  </thead>\n",
              "  <tbody>\n",
              "    <tr>\n",
              "      <th>0</th>\n",
              "      <td>75</td>\n",
              "      <td>0</td>\n",
              "      <td>190</td>\n",
              "      <td>80</td>\n",
              "      <td>91</td>\n",
              "      <td>193</td>\n",
              "      <td>371</td>\n",
              "      <td>174</td>\n",
              "      <td>121</td>\n",
              "      <td>-16</td>\n",
              "      <td>13.0</td>\n",
              "      <td>64.0</td>\n",
              "      <td>-2.0</td>\n",
              "      <td>NaN</td>\n",
              "      <td>63.0</td>\n",
              "      <td>0</td>\n",
              "      <td>52</td>\n",
              "      <td>44</td>\n",
              "      <td>0</td>\n",
              "      <td>0</td>\n",
              "      <td>32</td>\n",
              "      <td>0</td>\n",
              "      <td>0</td>\n",
              "      <td>0</td>\n",
              "      <td>0</td>\n",
              "      <td>0</td>\n",
              "      <td>0</td>\n",
              "      <td>0</td>\n",
              "      <td>44</td>\n",
              "      <td>20</td>\n",
              "      <td>36</td>\n",
              "      <td>0</td>\n",
              "      <td>28</td>\n",
              "      <td>0</td>\n",
              "      <td>0</td>\n",
              "      <td>0</td>\n",
              "      <td>0</td>\n",
              "      <td>0</td>\n",
              "      <td>0</td>\n",
              "      <td>52</td>\n",
              "      <td>...</td>\n",
              "      <td>0.0</td>\n",
              "      <td>8.4</td>\n",
              "      <td>-10.0</td>\n",
              "      <td>0.0</td>\n",
              "      <td>0.0</td>\n",
              "      <td>0.6</td>\n",
              "      <td>5.9</td>\n",
              "      <td>-3.9</td>\n",
              "      <td>52.7</td>\n",
              "      <td>-0.3</td>\n",
              "      <td>0.0</td>\n",
              "      <td>15.2</td>\n",
              "      <td>-8.4</td>\n",
              "      <td>0.0</td>\n",
              "      <td>0.0</td>\n",
              "      <td>0.9</td>\n",
              "      <td>5.1</td>\n",
              "      <td>17.7</td>\n",
              "      <td>70.7</td>\n",
              "      <td>-0.4</td>\n",
              "      <td>0.0</td>\n",
              "      <td>13.5</td>\n",
              "      <td>-4.0</td>\n",
              "      <td>0.0</td>\n",
              "      <td>0</td>\n",
              "      <td>0.9</td>\n",
              "      <td>3.9</td>\n",
              "      <td>25.5</td>\n",
              "      <td>62.9</td>\n",
              "      <td>-0.3</td>\n",
              "      <td>0.0</td>\n",
              "      <td>9.0</td>\n",
              "      <td>-0.9</td>\n",
              "      <td>0.0</td>\n",
              "      <td>0</td>\n",
              "      <td>0.9</td>\n",
              "      <td>2.9</td>\n",
              "      <td>23.3</td>\n",
              "      <td>49.4</td>\n",
              "      <td>0</td>\n",
              "    </tr>\n",
              "    <tr>\n",
              "      <th>1</th>\n",
              "      <td>56</td>\n",
              "      <td>1</td>\n",
              "      <td>165</td>\n",
              "      <td>64</td>\n",
              "      <td>81</td>\n",
              "      <td>174</td>\n",
              "      <td>401</td>\n",
              "      <td>149</td>\n",
              "      <td>39</td>\n",
              "      <td>25</td>\n",
              "      <td>37.0</td>\n",
              "      <td>-17.0</td>\n",
              "      <td>31.0</td>\n",
              "      <td>NaN</td>\n",
              "      <td>53.0</td>\n",
              "      <td>0</td>\n",
              "      <td>48</td>\n",
              "      <td>0</td>\n",
              "      <td>0</td>\n",
              "      <td>0</td>\n",
              "      <td>24</td>\n",
              "      <td>0</td>\n",
              "      <td>0</td>\n",
              "      <td>0</td>\n",
              "      <td>0</td>\n",
              "      <td>0</td>\n",
              "      <td>0</td>\n",
              "      <td>0</td>\n",
              "      <td>64</td>\n",
              "      <td>0</td>\n",
              "      <td>0</td>\n",
              "      <td>0</td>\n",
              "      <td>24</td>\n",
              "      <td>0</td>\n",
              "      <td>0</td>\n",
              "      <td>0</td>\n",
              "      <td>0</td>\n",
              "      <td>0</td>\n",
              "      <td>0</td>\n",
              "      <td>32</td>\n",
              "      <td>...</td>\n",
              "      <td>0.0</td>\n",
              "      <td>5.8</td>\n",
              "      <td>-7.7</td>\n",
              "      <td>0.0</td>\n",
              "      <td>0.0</td>\n",
              "      <td>0.9</td>\n",
              "      <td>3.8</td>\n",
              "      <td>-5.7</td>\n",
              "      <td>27.7</td>\n",
              "      <td>-0.2</td>\n",
              "      <td>0.0</td>\n",
              "      <td>9.5</td>\n",
              "      <td>-5.0</td>\n",
              "      <td>0.0</td>\n",
              "      <td>0.0</td>\n",
              "      <td>0.5</td>\n",
              "      <td>2.6</td>\n",
              "      <td>11.8</td>\n",
              "      <td>34.6</td>\n",
              "      <td>-0.4</td>\n",
              "      <td>0.0</td>\n",
              "      <td>11.0</td>\n",
              "      <td>-2.4</td>\n",
              "      <td>0.0</td>\n",
              "      <td>0</td>\n",
              "      <td>0.4</td>\n",
              "      <td>2.6</td>\n",
              "      <td>21.6</td>\n",
              "      <td>43.4</td>\n",
              "      <td>-0.5</td>\n",
              "      <td>0.0</td>\n",
              "      <td>8.5</td>\n",
              "      <td>0.0</td>\n",
              "      <td>0.0</td>\n",
              "      <td>0</td>\n",
              "      <td>0.2</td>\n",
              "      <td>2.1</td>\n",
              "      <td>20.4</td>\n",
              "      <td>38.8</td>\n",
              "      <td>0</td>\n",
              "    </tr>\n",
              "    <tr>\n",
              "      <th>2</th>\n",
              "      <td>54</td>\n",
              "      <td>0</td>\n",
              "      <td>172</td>\n",
              "      <td>95</td>\n",
              "      <td>138</td>\n",
              "      <td>163</td>\n",
              "      <td>386</td>\n",
              "      <td>185</td>\n",
              "      <td>102</td>\n",
              "      <td>96</td>\n",
              "      <td>34.0</td>\n",
              "      <td>70.0</td>\n",
              "      <td>66.0</td>\n",
              "      <td>23.0</td>\n",
              "      <td>75.0</td>\n",
              "      <td>0</td>\n",
              "      <td>40</td>\n",
              "      <td>80</td>\n",
              "      <td>0</td>\n",
              "      <td>0</td>\n",
              "      <td>24</td>\n",
              "      <td>0</td>\n",
              "      <td>0</td>\n",
              "      <td>0</td>\n",
              "      <td>0</td>\n",
              "      <td>0</td>\n",
              "      <td>0</td>\n",
              "      <td>20</td>\n",
              "      <td>56</td>\n",
              "      <td>52</td>\n",
              "      <td>0</td>\n",
              "      <td>0</td>\n",
              "      <td>40</td>\n",
              "      <td>0</td>\n",
              "      <td>0</td>\n",
              "      <td>0</td>\n",
              "      <td>0</td>\n",
              "      <td>0</td>\n",
              "      <td>0</td>\n",
              "      <td>28</td>\n",
              "      <td>...</td>\n",
              "      <td>0.0</td>\n",
              "      <td>5.8</td>\n",
              "      <td>-4.1</td>\n",
              "      <td>4.0</td>\n",
              "      <td>-0.5</td>\n",
              "      <td>0.4</td>\n",
              "      <td>0.3</td>\n",
              "      <td>20.4</td>\n",
              "      <td>23.3</td>\n",
              "      <td>0.7</td>\n",
              "      <td>0.0</td>\n",
              "      <td>10.0</td>\n",
              "      <td>-5.7</td>\n",
              "      <td>0.0</td>\n",
              "      <td>0.0</td>\n",
              "      <td>0.5</td>\n",
              "      <td>2.2</td>\n",
              "      <td>-3.0</td>\n",
              "      <td>20.7</td>\n",
              "      <td>1.3</td>\n",
              "      <td>0.0</td>\n",
              "      <td>11.1</td>\n",
              "      <td>-3.4</td>\n",
              "      <td>0.0</td>\n",
              "      <td>0</td>\n",
              "      <td>0.4</td>\n",
              "      <td>3.4</td>\n",
              "      <td>11.5</td>\n",
              "      <td>48.2</td>\n",
              "      <td>0.9</td>\n",
              "      <td>0.0</td>\n",
              "      <td>9.5</td>\n",
              "      <td>-2.4</td>\n",
              "      <td>0.0</td>\n",
              "      <td>0</td>\n",
              "      <td>0.3</td>\n",
              "      <td>3.4</td>\n",
              "      <td>12.3</td>\n",
              "      <td>49.0</td>\n",
              "      <td>0</td>\n",
              "    </tr>\n",
              "    <tr>\n",
              "      <th>3</th>\n",
              "      <td>55</td>\n",
              "      <td>0</td>\n",
              "      <td>175</td>\n",
              "      <td>94</td>\n",
              "      <td>100</td>\n",
              "      <td>202</td>\n",
              "      <td>380</td>\n",
              "      <td>179</td>\n",
              "      <td>143</td>\n",
              "      <td>28</td>\n",
              "      <td>11.0</td>\n",
              "      <td>-5.0</td>\n",
              "      <td>20.0</td>\n",
              "      <td>NaN</td>\n",
              "      <td>71.0</td>\n",
              "      <td>0</td>\n",
              "      <td>72</td>\n",
              "      <td>20</td>\n",
              "      <td>0</td>\n",
              "      <td>0</td>\n",
              "      <td>48</td>\n",
              "      <td>0</td>\n",
              "      <td>0</td>\n",
              "      <td>0</td>\n",
              "      <td>0</td>\n",
              "      <td>0</td>\n",
              "      <td>0</td>\n",
              "      <td>0</td>\n",
              "      <td>64</td>\n",
              "      <td>36</td>\n",
              "      <td>0</td>\n",
              "      <td>0</td>\n",
              "      <td>36</td>\n",
              "      <td>0</td>\n",
              "      <td>0</td>\n",
              "      <td>0</td>\n",
              "      <td>0</td>\n",
              "      <td>0</td>\n",
              "      <td>0</td>\n",
              "      <td>20</td>\n",
              "      <td>...</td>\n",
              "      <td>0.0</td>\n",
              "      <td>9.0</td>\n",
              "      <td>-7.9</td>\n",
              "      <td>0.0</td>\n",
              "      <td>0.0</td>\n",
              "      <td>0.1</td>\n",
              "      <td>4.1</td>\n",
              "      <td>7.6</td>\n",
              "      <td>51.0</td>\n",
              "      <td>0.4</td>\n",
              "      <td>0.0</td>\n",
              "      <td>15.0</td>\n",
              "      <td>-5.5</td>\n",
              "      <td>0.0</td>\n",
              "      <td>0.0</td>\n",
              "      <td>0.1</td>\n",
              "      <td>3.3</td>\n",
              "      <td>28.8</td>\n",
              "      <td>63.1</td>\n",
              "      <td>0.1</td>\n",
              "      <td>0.0</td>\n",
              "      <td>15.2</td>\n",
              "      <td>-3.7</td>\n",
              "      <td>0.0</td>\n",
              "      <td>0</td>\n",
              "      <td>0.6</td>\n",
              "      <td>3.0</td>\n",
              "      <td>36.8</td>\n",
              "      <td>68.0</td>\n",
              "      <td>0.1</td>\n",
              "      <td>0.0</td>\n",
              "      <td>12.2</td>\n",
              "      <td>-2.2</td>\n",
              "      <td>0.0</td>\n",
              "      <td>0</td>\n",
              "      <td>0.4</td>\n",
              "      <td>2.6</td>\n",
              "      <td>34.6</td>\n",
              "      <td>61.6</td>\n",
              "      <td>1</td>\n",
              "    </tr>\n",
              "    <tr>\n",
              "      <th>4</th>\n",
              "      <td>75</td>\n",
              "      <td>0</td>\n",
              "      <td>190</td>\n",
              "      <td>80</td>\n",
              "      <td>88</td>\n",
              "      <td>181</td>\n",
              "      <td>360</td>\n",
              "      <td>177</td>\n",
              "      <td>103</td>\n",
              "      <td>-16</td>\n",
              "      <td>13.0</td>\n",
              "      <td>61.0</td>\n",
              "      <td>3.0</td>\n",
              "      <td>NaN</td>\n",
              "      <td>NaN</td>\n",
              "      <td>0</td>\n",
              "      <td>48</td>\n",
              "      <td>40</td>\n",
              "      <td>0</td>\n",
              "      <td>0</td>\n",
              "      <td>28</td>\n",
              "      <td>0</td>\n",
              "      <td>0</td>\n",
              "      <td>0</td>\n",
              "      <td>0</td>\n",
              "      <td>0</td>\n",
              "      <td>0</td>\n",
              "      <td>0</td>\n",
              "      <td>40</td>\n",
              "      <td>24</td>\n",
              "      <td>0</td>\n",
              "      <td>0</td>\n",
              "      <td>24</td>\n",
              "      <td>0</td>\n",
              "      <td>0</td>\n",
              "      <td>0</td>\n",
              "      <td>0</td>\n",
              "      <td>0</td>\n",
              "      <td>0</td>\n",
              "      <td>52</td>\n",
              "      <td>...</td>\n",
              "      <td>0.0</td>\n",
              "      <td>8.5</td>\n",
              "      <td>-10.2</td>\n",
              "      <td>0.0</td>\n",
              "      <td>0.0</td>\n",
              "      <td>-1.0</td>\n",
              "      <td>4.7</td>\n",
              "      <td>-4.0</td>\n",
              "      <td>43.0</td>\n",
              "      <td>-0.2</td>\n",
              "      <td>0.0</td>\n",
              "      <td>15.2</td>\n",
              "      <td>-7.8</td>\n",
              "      <td>0.0</td>\n",
              "      <td>0.0</td>\n",
              "      <td>-0.1</td>\n",
              "      <td>4.9</td>\n",
              "      <td>16.2</td>\n",
              "      <td>63.2</td>\n",
              "      <td>-0.2</td>\n",
              "      <td>0.0</td>\n",
              "      <td>9.1</td>\n",
              "      <td>-0.9</td>\n",
              "      <td>0.0</td>\n",
              "      <td>0</td>\n",
              "      <td>-0.2</td>\n",
              "      <td>2.9</td>\n",
              "      <td>21.7</td>\n",
              "      <td>48.9</td>\n",
              "      <td>-0.4</td>\n",
              "      <td>0.0</td>\n",
              "      <td>13.1</td>\n",
              "      <td>-3.6</td>\n",
              "      <td>0.0</td>\n",
              "      <td>0</td>\n",
              "      <td>-0.1</td>\n",
              "      <td>3.9</td>\n",
              "      <td>25.4</td>\n",
              "      <td>62.8</td>\n",
              "      <td>0</td>\n",
              "    </tr>\n",
              "  </tbody>\n",
              "</table>\n",
              "<p>5 rows × 280 columns</p>\n",
              "</div>"
            ],
            "text/plain": [
              "   age  sex  height  weight  ...  chV6_TwaveAmp  chV6_QRSA  chV6_QRSTA  class\n",
              "0   75    0     190      80  ...            2.9       23.3        49.4      0\n",
              "1   56    1     165      64  ...            2.1       20.4        38.8      0\n",
              "2   54    0     172      95  ...            3.4       12.3        49.0      0\n",
              "3   55    0     175      94  ...            2.6       34.6        61.6      1\n",
              "4   75    0     190      80  ...            3.9       25.4        62.8      0\n",
              "\n",
              "[5 rows x 280 columns]"
            ]
          },
          "metadata": {},
          "execution_count": 8
        }
      ]
    },
    {
      "cell_type": "code",
      "metadata": {
        "colab": {
          "base_uri": "https://localhost:8080/",
          "height": 367
        },
        "id": "R7lxPbX1aydp",
        "outputId": "9c6d396a-a328-4bc4-cb09-6febaacafda3"
      },
      "source": [
        "data.describe()"
      ],
      "execution_count": null,
      "outputs": [
        {
          "output_type": "execute_result",
          "data": {
            "text/html": [
              "<div>\n",
              "<style scoped>\n",
              "    .dataframe tbody tr th:only-of-type {\n",
              "        vertical-align: middle;\n",
              "    }\n",
              "\n",
              "    .dataframe tbody tr th {\n",
              "        vertical-align: top;\n",
              "    }\n",
              "\n",
              "    .dataframe thead th {\n",
              "        text-align: right;\n",
              "    }\n",
              "</style>\n",
              "<table border=\"1\" class=\"dataframe\">\n",
              "  <thead>\n",
              "    <tr style=\"text-align: right;\">\n",
              "      <th></th>\n",
              "      <th>age</th>\n",
              "      <th>sex</th>\n",
              "      <th>height</th>\n",
              "      <th>weight</th>\n",
              "      <th>QRSduration</th>\n",
              "      <th>PRinterval</th>\n",
              "      <th>Q-Tinterval</th>\n",
              "      <th>Tinterval</th>\n",
              "      <th>Pinterval</th>\n",
              "      <th>QRS</th>\n",
              "      <th>T</th>\n",
              "      <th>P</th>\n",
              "      <th>QRST</th>\n",
              "      <th>J</th>\n",
              "      <th>heartrate</th>\n",
              "      <th>chDI_Qwave</th>\n",
              "      <th>chDI_Rwave</th>\n",
              "      <th>chDI_Swave</th>\n",
              "      <th>chDI_RPwave</th>\n",
              "      <th>chDI_SPwave</th>\n",
              "      <th>chDI_intrinsicReflecttions</th>\n",
              "      <th>chDI_RRwaveExists</th>\n",
              "      <th>chDI_DD_RRwaveExists</th>\n",
              "      <th>chDI_RPwaveExists</th>\n",
              "      <th>chDI_DD_RPwaveExists</th>\n",
              "      <th>chDI_RTwaveExists</th>\n",
              "      <th>chDI_DD_RTwaveExists</th>\n",
              "      <th>chDII_Qwave</th>\n",
              "      <th>chDII_Rwave</th>\n",
              "      <th>chDII_Swave</th>\n",
              "      <th>chDII_RPwave</th>\n",
              "      <th>chDII_SPwave</th>\n",
              "      <th>chDII_intrinsicReflecttions</th>\n",
              "      <th>chDII_RRwaveExists</th>\n",
              "      <th>chDII_DD_RRwaveExists</th>\n",
              "      <th>chDII_RPwaveExists</th>\n",
              "      <th>chDII_DD_RPwaveExists</th>\n",
              "      <th>chDII_RTwaveExists</th>\n",
              "      <th>chDII_DD_RTwaveExists</th>\n",
              "      <th>chDIII_Qwave</th>\n",
              "      <th>...</th>\n",
              "      <th>chV3_QwaveAmp</th>\n",
              "      <th>chV3_RwaveAmp</th>\n",
              "      <th>chV3_SwaveAmp</th>\n",
              "      <th>chV3_RPwaveAmp</th>\n",
              "      <th>chV3_SPwaveAmp</th>\n",
              "      <th>chV3_PwaveAmp</th>\n",
              "      <th>chV3_TwaveAmp</th>\n",
              "      <th>chV3_QRSA</th>\n",
              "      <th>chV3_QRSTA</th>\n",
              "      <th>chV4_JJwaveAmp</th>\n",
              "      <th>chV4_QwaveAmp</th>\n",
              "      <th>chV4_RwaveAmp</th>\n",
              "      <th>chV4_SwaveAmp</th>\n",
              "      <th>chV4_RPwaveAmp</th>\n",
              "      <th>chV4_SPwaveAmp</th>\n",
              "      <th>chV4_PwaveAmp</th>\n",
              "      <th>chV4_TwaveAmp</th>\n",
              "      <th>chV4_QRSA</th>\n",
              "      <th>chV4_QRSTA</th>\n",
              "      <th>chV5_JJwaveAmp</th>\n",
              "      <th>chV5_QwaveAmp</th>\n",
              "      <th>chV5_RwaveAmp</th>\n",
              "      <th>chV5_SwaveAmp</th>\n",
              "      <th>chV5_RPwaveAmp</th>\n",
              "      <th>chV5_SPwaveAmp</th>\n",
              "      <th>chV5_PwaveAmp</th>\n",
              "      <th>chV5_TwaveAmp</th>\n",
              "      <th>chV5_QRSA</th>\n",
              "      <th>chV5_QRSTA</th>\n",
              "      <th>chV6_JJwaveAmp</th>\n",
              "      <th>chV6_QwaveAmp</th>\n",
              "      <th>chV6_RwaveAmp</th>\n",
              "      <th>chV6_SwaveAmp</th>\n",
              "      <th>chV6_RPwaveAmp</th>\n",
              "      <th>chV6_SPwaveAmp</th>\n",
              "      <th>chV6_PwaveAmp</th>\n",
              "      <th>chV6_TwaveAmp</th>\n",
              "      <th>chV6_QRSA</th>\n",
              "      <th>chV6_QRSTA</th>\n",
              "      <th>class</th>\n",
              "    </tr>\n",
              "  </thead>\n",
              "  <tbody>\n",
              "    <tr>\n",
              "      <th>count</th>\n",
              "      <td>452.000000</td>\n",
              "      <td>452.000000</td>\n",
              "      <td>452.000000</td>\n",
              "      <td>452.000000</td>\n",
              "      <td>452.000000</td>\n",
              "      <td>452.000000</td>\n",
              "      <td>452.000000</td>\n",
              "      <td>452.000000</td>\n",
              "      <td>452.000000</td>\n",
              "      <td>452.000000</td>\n",
              "      <td>444.000000</td>\n",
              "      <td>430.000000</td>\n",
              "      <td>451.000000</td>\n",
              "      <td>76.000000</td>\n",
              "      <td>451.000000</td>\n",
              "      <td>452.000000</td>\n",
              "      <td>452.000000</td>\n",
              "      <td>452.000000</td>\n",
              "      <td>452.000000</td>\n",
              "      <td>452.0</td>\n",
              "      <td>452.000000</td>\n",
              "      <td>452.000000</td>\n",
              "      <td>452.000000</td>\n",
              "      <td>452.000000</td>\n",
              "      <td>452.000000</td>\n",
              "      <td>452.000000</td>\n",
              "      <td>452.000000</td>\n",
              "      <td>452.000000</td>\n",
              "      <td>452.000000</td>\n",
              "      <td>452.00000</td>\n",
              "      <td>452.000000</td>\n",
              "      <td>452.000000</td>\n",
              "      <td>452.000000</td>\n",
              "      <td>452.000000</td>\n",
              "      <td>452.000000</td>\n",
              "      <td>452.000000</td>\n",
              "      <td>452.000000</td>\n",
              "      <td>452.000000</td>\n",
              "      <td>452.000000</td>\n",
              "      <td>452.000000</td>\n",
              "      <td>...</td>\n",
              "      <td>452.000000</td>\n",
              "      <td>452.000000</td>\n",
              "      <td>452.000000</td>\n",
              "      <td>452.000000</td>\n",
              "      <td>452.000000</td>\n",
              "      <td>452.000000</td>\n",
              "      <td>452.000000</td>\n",
              "      <td>452.000000</td>\n",
              "      <td>452.000000</td>\n",
              "      <td>452.000000</td>\n",
              "      <td>452.000000</td>\n",
              "      <td>452.000000</td>\n",
              "      <td>452.000000</td>\n",
              "      <td>452.000000</td>\n",
              "      <td>452.000000</td>\n",
              "      <td>452.000000</td>\n",
              "      <td>452.000000</td>\n",
              "      <td>452.000000</td>\n",
              "      <td>452.000000</td>\n",
              "      <td>452.000000</td>\n",
              "      <td>452.000000</td>\n",
              "      <td>452.000000</td>\n",
              "      <td>452.000000</td>\n",
              "      <td>452.000000</td>\n",
              "      <td>452.0</td>\n",
              "      <td>452.000000</td>\n",
              "      <td>452.000000</td>\n",
              "      <td>452.000000</td>\n",
              "      <td>452.000000</td>\n",
              "      <td>452.000000</td>\n",
              "      <td>452.000000</td>\n",
              "      <td>452.000000</td>\n",
              "      <td>452.000000</td>\n",
              "      <td>452.000000</td>\n",
              "      <td>452.0</td>\n",
              "      <td>452.000000</td>\n",
              "      <td>452.000000</td>\n",
              "      <td>452.000000</td>\n",
              "      <td>452.000000</td>\n",
              "      <td>452.000000</td>\n",
              "    </tr>\n",
              "    <tr>\n",
              "      <th>mean</th>\n",
              "      <td>46.471239</td>\n",
              "      <td>0.550885</td>\n",
              "      <td>166.188053</td>\n",
              "      <td>68.170354</td>\n",
              "      <td>88.920354</td>\n",
              "      <td>155.152655</td>\n",
              "      <td>367.207965</td>\n",
              "      <td>169.949115</td>\n",
              "      <td>90.004425</td>\n",
              "      <td>33.676991</td>\n",
              "      <td>36.150901</td>\n",
              "      <td>48.913953</td>\n",
              "      <td>36.716186</td>\n",
              "      <td>-13.592105</td>\n",
              "      <td>74.463415</td>\n",
              "      <td>5.628319</td>\n",
              "      <td>51.628319</td>\n",
              "      <td>20.920354</td>\n",
              "      <td>0.141593</td>\n",
              "      <td>0.0</td>\n",
              "      <td>30.035398</td>\n",
              "      <td>0.002212</td>\n",
              "      <td>0.011062</td>\n",
              "      <td>0.011062</td>\n",
              "      <td>0.004425</td>\n",
              "      <td>0.004425</td>\n",
              "      <td>0.008850</td>\n",
              "      <td>5.619469</td>\n",
              "      <td>54.336283</td>\n",
              "      <td>20.59292</td>\n",
              "      <td>0.433628</td>\n",
              "      <td>0.150442</td>\n",
              "      <td>31.637168</td>\n",
              "      <td>0.017699</td>\n",
              "      <td>0.028761</td>\n",
              "      <td>0.002212</td>\n",
              "      <td>0.004425</td>\n",
              "      <td>0.004425</td>\n",
              "      <td>0.015487</td>\n",
              "      <td>16.026549</td>\n",
              "      <td>...</td>\n",
              "      <td>-0.653540</td>\n",
              "      <td>8.039602</td>\n",
              "      <td>-10.150664</td>\n",
              "      <td>0.032965</td>\n",
              "      <td>-0.013496</td>\n",
              "      <td>0.226770</td>\n",
              "      <td>3.894690</td>\n",
              "      <td>-8.269027</td>\n",
              "      <td>32.422788</td>\n",
              "      <td>0.001106</td>\n",
              "      <td>-0.297566</td>\n",
              "      <td>11.839381</td>\n",
              "      <td>-7.034513</td>\n",
              "      <td>0.025664</td>\n",
              "      <td>-0.002876</td>\n",
              "      <td>0.547788</td>\n",
              "      <td>2.535841</td>\n",
              "      <td>10.081195</td>\n",
              "      <td>33.328540</td>\n",
              "      <td>-0.285398</td>\n",
              "      <td>-0.277212</td>\n",
              "      <td>11.369912</td>\n",
              "      <td>-3.607522</td>\n",
              "      <td>0.016814</td>\n",
              "      <td>0.0</td>\n",
              "      <td>0.546681</td>\n",
              "      <td>1.722124</td>\n",
              "      <td>17.840044</td>\n",
              "      <td>32.871460</td>\n",
              "      <td>-0.302434</td>\n",
              "      <td>-0.278982</td>\n",
              "      <td>9.048009</td>\n",
              "      <td>-1.457301</td>\n",
              "      <td>0.003982</td>\n",
              "      <td>0.0</td>\n",
              "      <td>0.514823</td>\n",
              "      <td>1.222345</td>\n",
              "      <td>19.326106</td>\n",
              "      <td>29.473230</td>\n",
              "      <td>0.542035</td>\n",
              "    </tr>\n",
              "    <tr>\n",
              "      <th>std</th>\n",
              "      <td>16.466631</td>\n",
              "      <td>0.497955</td>\n",
              "      <td>37.170340</td>\n",
              "      <td>16.590803</td>\n",
              "      <td>15.364394</td>\n",
              "      <td>44.842283</td>\n",
              "      <td>33.385421</td>\n",
              "      <td>35.633072</td>\n",
              "      <td>25.826643</td>\n",
              "      <td>45.431434</td>\n",
              "      <td>57.858255</td>\n",
              "      <td>29.346409</td>\n",
              "      <td>36.020725</td>\n",
              "      <td>127.220248</td>\n",
              "      <td>13.870684</td>\n",
              "      <td>10.650001</td>\n",
              "      <td>18.249901</td>\n",
              "      <td>20.541728</td>\n",
              "      <td>1.569483</td>\n",
              "      <td>0.0</td>\n",
              "      <td>10.046393</td>\n",
              "      <td>0.047036</td>\n",
              "      <td>0.104708</td>\n",
              "      <td>0.104708</td>\n",
              "      <td>0.066445</td>\n",
              "      <td>0.066445</td>\n",
              "      <td>0.093759</td>\n",
              "      <td>11.220680</td>\n",
              "      <td>17.248213</td>\n",
              "      <td>21.06105</td>\n",
              "      <td>3.093161</td>\n",
              "      <td>2.692591</td>\n",
              "      <td>9.624951</td>\n",
              "      <td>0.132002</td>\n",
              "      <td>0.167319</td>\n",
              "      <td>0.047036</td>\n",
              "      <td>0.066445</td>\n",
              "      <td>0.066445</td>\n",
              "      <td>0.123615</td>\n",
              "      <td>21.906457</td>\n",
              "      <td>...</td>\n",
              "      <td>3.414085</td>\n",
              "      <td>5.279719</td>\n",
              "      <td>7.066568</td>\n",
              "      <td>0.390403</td>\n",
              "      <td>0.264398</td>\n",
              "      <td>0.548988</td>\n",
              "      <td>2.990809</td>\n",
              "      <td>32.157008</td>\n",
              "      <td>37.362289</td>\n",
              "      <td>1.015566</td>\n",
              "      <td>1.758544</td>\n",
              "      <td>5.917391</td>\n",
              "      <td>5.061472</td>\n",
              "      <td>0.166763</td>\n",
              "      <td>0.046287</td>\n",
              "      <td>0.426941</td>\n",
              "      <td>2.429776</td>\n",
              "      <td>25.074695</td>\n",
              "      <td>34.361665</td>\n",
              "      <td>0.675060</td>\n",
              "      <td>0.992472</td>\n",
              "      <td>4.793656</td>\n",
              "      <td>2.850633</td>\n",
              "      <td>0.275907</td>\n",
              "      <td>0.0</td>\n",
              "      <td>0.370548</td>\n",
              "      <td>1.708190</td>\n",
              "      <td>16.445472</td>\n",
              "      <td>24.421643</td>\n",
              "      <td>0.603551</td>\n",
              "      <td>0.548876</td>\n",
              "      <td>3.472862</td>\n",
              "      <td>2.002430</td>\n",
              "      <td>0.050118</td>\n",
              "      <td>0.0</td>\n",
              "      <td>0.347531</td>\n",
              "      <td>1.426052</td>\n",
              "      <td>13.503922</td>\n",
              "      <td>18.493927</td>\n",
              "      <td>0.498782</td>\n",
              "    </tr>\n",
              "    <tr>\n",
              "      <th>min</th>\n",
              "      <td>0.000000</td>\n",
              "      <td>0.000000</td>\n",
              "      <td>105.000000</td>\n",
              "      <td>6.000000</td>\n",
              "      <td>55.000000</td>\n",
              "      <td>0.000000</td>\n",
              "      <td>232.000000</td>\n",
              "      <td>108.000000</td>\n",
              "      <td>0.000000</td>\n",
              "      <td>-172.000000</td>\n",
              "      <td>-177.000000</td>\n",
              "      <td>-170.000000</td>\n",
              "      <td>-135.000000</td>\n",
              "      <td>-179.000000</td>\n",
              "      <td>44.000000</td>\n",
              "      <td>0.000000</td>\n",
              "      <td>0.000000</td>\n",
              "      <td>0.000000</td>\n",
              "      <td>0.000000</td>\n",
              "      <td>0.0</td>\n",
              "      <td>0.000000</td>\n",
              "      <td>0.000000</td>\n",
              "      <td>0.000000</td>\n",
              "      <td>0.000000</td>\n",
              "      <td>0.000000</td>\n",
              "      <td>0.000000</td>\n",
              "      <td>0.000000</td>\n",
              "      <td>0.000000</td>\n",
              "      <td>0.000000</td>\n",
              "      <td>0.00000</td>\n",
              "      <td>0.000000</td>\n",
              "      <td>0.000000</td>\n",
              "      <td>0.000000</td>\n",
              "      <td>0.000000</td>\n",
              "      <td>0.000000</td>\n",
              "      <td>0.000000</td>\n",
              "      <td>0.000000</td>\n",
              "      <td>0.000000</td>\n",
              "      <td>0.000000</td>\n",
              "      <td>0.000000</td>\n",
              "      <td>...</td>\n",
              "      <td>-32.900000</td>\n",
              "      <td>0.000000</td>\n",
              "      <td>-48.400000</td>\n",
              "      <td>0.000000</td>\n",
              "      <td>-5.600000</td>\n",
              "      <td>-3.100000</td>\n",
              "      <td>-11.800000</td>\n",
              "      <td>-242.400000</td>\n",
              "      <td>-146.200000</td>\n",
              "      <td>-3.200000</td>\n",
              "      <td>-20.400000</td>\n",
              "      <td>0.000000</td>\n",
              "      <td>-42.900000</td>\n",
              "      <td>0.000000</td>\n",
              "      <td>-0.900000</td>\n",
              "      <td>-2.600000</td>\n",
              "      <td>-8.200000</td>\n",
              "      <td>-124.800000</td>\n",
              "      <td>-161.400000</td>\n",
              "      <td>-4.800000</td>\n",
              "      <td>-14.200000</td>\n",
              "      <td>0.000000</td>\n",
              "      <td>-30.800000</td>\n",
              "      <td>0.000000</td>\n",
              "      <td>0.0</td>\n",
              "      <td>-0.900000</td>\n",
              "      <td>-5.000000</td>\n",
              "      <td>-56.800000</td>\n",
              "      <td>-63.600000</td>\n",
              "      <td>-5.600000</td>\n",
              "      <td>-4.100000</td>\n",
              "      <td>0.000000</td>\n",
              "      <td>-28.600000</td>\n",
              "      <td>0.000000</td>\n",
              "      <td>0.0</td>\n",
              "      <td>-0.800000</td>\n",
              "      <td>-6.000000</td>\n",
              "      <td>-44.200000</td>\n",
              "      <td>-38.600000</td>\n",
              "      <td>0.000000</td>\n",
              "    </tr>\n",
              "    <tr>\n",
              "      <th>25%</th>\n",
              "      <td>36.000000</td>\n",
              "      <td>0.000000</td>\n",
              "      <td>160.000000</td>\n",
              "      <td>59.000000</td>\n",
              "      <td>80.000000</td>\n",
              "      <td>142.000000</td>\n",
              "      <td>350.000000</td>\n",
              "      <td>148.000000</td>\n",
              "      <td>79.000000</td>\n",
              "      <td>3.750000</td>\n",
              "      <td>14.000000</td>\n",
              "      <td>41.000000</td>\n",
              "      <td>12.000000</td>\n",
              "      <td>-124.500000</td>\n",
              "      <td>65.000000</td>\n",
              "      <td>0.000000</td>\n",
              "      <td>40.000000</td>\n",
              "      <td>0.000000</td>\n",
              "      <td>0.000000</td>\n",
              "      <td>0.0</td>\n",
              "      <td>24.000000</td>\n",
              "      <td>0.000000</td>\n",
              "      <td>0.000000</td>\n",
              "      <td>0.000000</td>\n",
              "      <td>0.000000</td>\n",
              "      <td>0.000000</td>\n",
              "      <td>0.000000</td>\n",
              "      <td>0.000000</td>\n",
              "      <td>44.000000</td>\n",
              "      <td>0.00000</td>\n",
              "      <td>0.000000</td>\n",
              "      <td>0.000000</td>\n",
              "      <td>24.000000</td>\n",
              "      <td>0.000000</td>\n",
              "      <td>0.000000</td>\n",
              "      <td>0.000000</td>\n",
              "      <td>0.000000</td>\n",
              "      <td>0.000000</td>\n",
              "      <td>0.000000</td>\n",
              "      <td>0.000000</td>\n",
              "      <td>...</td>\n",
              "      <td>0.000000</td>\n",
              "      <td>4.200000</td>\n",
              "      <td>-13.000000</td>\n",
              "      <td>0.000000</td>\n",
              "      <td>0.000000</td>\n",
              "      <td>0.000000</td>\n",
              "      <td>2.000000</td>\n",
              "      <td>-19.525000</td>\n",
              "      <td>9.850000</td>\n",
              "      <td>-0.500000</td>\n",
              "      <td>0.000000</td>\n",
              "      <td>7.875000</td>\n",
              "      <td>-9.100000</td>\n",
              "      <td>0.000000</td>\n",
              "      <td>0.000000</td>\n",
              "      <td>0.400000</td>\n",
              "      <td>1.100000</td>\n",
              "      <td>-0.925000</td>\n",
              "      <td>11.275000</td>\n",
              "      <td>-0.600000</td>\n",
              "      <td>0.000000</td>\n",
              "      <td>8.100000</td>\n",
              "      <td>-4.725000</td>\n",
              "      <td>0.000000</td>\n",
              "      <td>0.0</td>\n",
              "      <td>0.400000</td>\n",
              "      <td>0.700000</td>\n",
              "      <td>8.675000</td>\n",
              "      <td>15.375000</td>\n",
              "      <td>-0.500000</td>\n",
              "      <td>-0.425000</td>\n",
              "      <td>6.600000</td>\n",
              "      <td>-2.100000</td>\n",
              "      <td>0.000000</td>\n",
              "      <td>0.0</td>\n",
              "      <td>0.400000</td>\n",
              "      <td>0.500000</td>\n",
              "      <td>11.450000</td>\n",
              "      <td>17.550000</td>\n",
              "      <td>0.000000</td>\n",
              "    </tr>\n",
              "    <tr>\n",
              "      <th>50%</th>\n",
              "      <td>47.000000</td>\n",
              "      <td>1.000000</td>\n",
              "      <td>164.000000</td>\n",
              "      <td>68.000000</td>\n",
              "      <td>86.000000</td>\n",
              "      <td>157.000000</td>\n",
              "      <td>367.000000</td>\n",
              "      <td>162.000000</td>\n",
              "      <td>91.000000</td>\n",
              "      <td>40.000000</td>\n",
              "      <td>41.000000</td>\n",
              "      <td>56.000000</td>\n",
              "      <td>40.000000</td>\n",
              "      <td>-50.500000</td>\n",
              "      <td>72.000000</td>\n",
              "      <td>0.000000</td>\n",
              "      <td>48.000000</td>\n",
              "      <td>20.000000</td>\n",
              "      <td>0.000000</td>\n",
              "      <td>0.0</td>\n",
              "      <td>28.000000</td>\n",
              "      <td>0.000000</td>\n",
              "      <td>0.000000</td>\n",
              "      <td>0.000000</td>\n",
              "      <td>0.000000</td>\n",
              "      <td>0.000000</td>\n",
              "      <td>0.000000</td>\n",
              "      <td>0.000000</td>\n",
              "      <td>48.000000</td>\n",
              "      <td>20.00000</td>\n",
              "      <td>0.000000</td>\n",
              "      <td>0.000000</td>\n",
              "      <td>28.000000</td>\n",
              "      <td>0.000000</td>\n",
              "      <td>0.000000</td>\n",
              "      <td>0.000000</td>\n",
              "      <td>0.000000</td>\n",
              "      <td>0.000000</td>\n",
              "      <td>0.000000</td>\n",
              "      <td>0.000000</td>\n",
              "      <td>...</td>\n",
              "      <td>0.000000</td>\n",
              "      <td>7.050000</td>\n",
              "      <td>-8.800000</td>\n",
              "      <td>0.000000</td>\n",
              "      <td>0.000000</td>\n",
              "      <td>0.300000</td>\n",
              "      <td>3.800000</td>\n",
              "      <td>-4.700000</td>\n",
              "      <td>32.550000</td>\n",
              "      <td>0.000000</td>\n",
              "      <td>0.000000</td>\n",
              "      <td>11.200000</td>\n",
              "      <td>-6.000000</td>\n",
              "      <td>0.000000</td>\n",
              "      <td>0.000000</td>\n",
              "      <td>0.600000</td>\n",
              "      <td>2.400000</td>\n",
              "      <td>11.400000</td>\n",
              "      <td>32.750000</td>\n",
              "      <td>-0.200000</td>\n",
              "      <td>0.000000</td>\n",
              "      <td>11.000000</td>\n",
              "      <td>-3.000000</td>\n",
              "      <td>0.000000</td>\n",
              "      <td>0.0</td>\n",
              "      <td>0.600000</td>\n",
              "      <td>1.750000</td>\n",
              "      <td>18.350000</td>\n",
              "      <td>30.350000</td>\n",
              "      <td>-0.200000</td>\n",
              "      <td>0.000000</td>\n",
              "      <td>8.800000</td>\n",
              "      <td>-1.100000</td>\n",
              "      <td>0.000000</td>\n",
              "      <td>0.0</td>\n",
              "      <td>0.500000</td>\n",
              "      <td>1.350000</td>\n",
              "      <td>18.100000</td>\n",
              "      <td>27.900000</td>\n",
              "      <td>1.000000</td>\n",
              "    </tr>\n",
              "    <tr>\n",
              "      <th>75%</th>\n",
              "      <td>58.000000</td>\n",
              "      <td>1.000000</td>\n",
              "      <td>170.000000</td>\n",
              "      <td>79.000000</td>\n",
              "      <td>94.000000</td>\n",
              "      <td>175.000000</td>\n",
              "      <td>384.000000</td>\n",
              "      <td>179.000000</td>\n",
              "      <td>102.000000</td>\n",
              "      <td>66.000000</td>\n",
              "      <td>63.250000</td>\n",
              "      <td>65.000000</td>\n",
              "      <td>62.000000</td>\n",
              "      <td>117.250000</td>\n",
              "      <td>81.000000</td>\n",
              "      <td>12.000000</td>\n",
              "      <td>60.000000</td>\n",
              "      <td>36.000000</td>\n",
              "      <td>0.000000</td>\n",
              "      <td>0.0</td>\n",
              "      <td>36.000000</td>\n",
              "      <td>0.000000</td>\n",
              "      <td>0.000000</td>\n",
              "      <td>0.000000</td>\n",
              "      <td>0.000000</td>\n",
              "      <td>0.000000</td>\n",
              "      <td>0.000000</td>\n",
              "      <td>0.000000</td>\n",
              "      <td>64.000000</td>\n",
              "      <td>36.00000</td>\n",
              "      <td>0.000000</td>\n",
              "      <td>0.000000</td>\n",
              "      <td>36.000000</td>\n",
              "      <td>0.000000</td>\n",
              "      <td>0.000000</td>\n",
              "      <td>0.000000</td>\n",
              "      <td>0.000000</td>\n",
              "      <td>0.000000</td>\n",
              "      <td>0.000000</td>\n",
              "      <td>28.000000</td>\n",
              "      <td>...</td>\n",
              "      <td>0.000000</td>\n",
              "      <td>10.600000</td>\n",
              "      <td>-5.800000</td>\n",
              "      <td>0.000000</td>\n",
              "      <td>0.000000</td>\n",
              "      <td>0.600000</td>\n",
              "      <td>5.525000</td>\n",
              "      <td>7.625000</td>\n",
              "      <td>56.025000</td>\n",
              "      <td>0.225000</td>\n",
              "      <td>0.000000</td>\n",
              "      <td>15.100000</td>\n",
              "      <td>-3.700000</td>\n",
              "      <td>0.000000</td>\n",
              "      <td>0.000000</td>\n",
              "      <td>0.800000</td>\n",
              "      <td>3.900000</td>\n",
              "      <td>25.050000</td>\n",
              "      <td>52.325000</td>\n",
              "      <td>0.000000</td>\n",
              "      <td>0.000000</td>\n",
              "      <td>14.125000</td>\n",
              "      <td>-1.900000</td>\n",
              "      <td>0.000000</td>\n",
              "      <td>0.0</td>\n",
              "      <td>0.700000</td>\n",
              "      <td>2.800000</td>\n",
              "      <td>27.900000</td>\n",
              "      <td>48.100000</td>\n",
              "      <td>0.000000</td>\n",
              "      <td>0.000000</td>\n",
              "      <td>11.200000</td>\n",
              "      <td>0.000000</td>\n",
              "      <td>0.000000</td>\n",
              "      <td>0.0</td>\n",
              "      <td>0.700000</td>\n",
              "      <td>2.100000</td>\n",
              "      <td>25.825000</td>\n",
              "      <td>41.125000</td>\n",
              "      <td>1.000000</td>\n",
              "    </tr>\n",
              "    <tr>\n",
              "      <th>max</th>\n",
              "      <td>83.000000</td>\n",
              "      <td>1.000000</td>\n",
              "      <td>780.000000</td>\n",
              "      <td>176.000000</td>\n",
              "      <td>188.000000</td>\n",
              "      <td>524.000000</td>\n",
              "      <td>509.000000</td>\n",
              "      <td>381.000000</td>\n",
              "      <td>205.000000</td>\n",
              "      <td>169.000000</td>\n",
              "      <td>179.000000</td>\n",
              "      <td>176.000000</td>\n",
              "      <td>166.000000</td>\n",
              "      <td>178.000000</td>\n",
              "      <td>163.000000</td>\n",
              "      <td>88.000000</td>\n",
              "      <td>156.000000</td>\n",
              "      <td>88.000000</td>\n",
              "      <td>24.000000</td>\n",
              "      <td>0.0</td>\n",
              "      <td>100.000000</td>\n",
              "      <td>1.000000</td>\n",
              "      <td>1.000000</td>\n",
              "      <td>1.000000</td>\n",
              "      <td>1.000000</td>\n",
              "      <td>1.000000</td>\n",
              "      <td>1.000000</td>\n",
              "      <td>76.000000</td>\n",
              "      <td>132.000000</td>\n",
              "      <td>92.00000</td>\n",
              "      <td>36.000000</td>\n",
              "      <td>56.000000</td>\n",
              "      <td>76.000000</td>\n",
              "      <td>1.000000</td>\n",
              "      <td>1.000000</td>\n",
              "      <td>1.000000</td>\n",
              "      <td>1.000000</td>\n",
              "      <td>1.000000</td>\n",
              "      <td>1.000000</td>\n",
              "      <td>92.000000</td>\n",
              "      <td>...</td>\n",
              "      <td>0.000000</td>\n",
              "      <td>28.400000</td>\n",
              "      <td>0.000000</td>\n",
              "      <td>7.000000</td>\n",
              "      <td>0.000000</td>\n",
              "      <td>2.500000</td>\n",
              "      <td>18.800000</td>\n",
              "      <td>165.400000</td>\n",
              "      <td>137.800000</td>\n",
              "      <td>9.700000</td>\n",
              "      <td>0.000000</td>\n",
              "      <td>36.400000</td>\n",
              "      <td>0.000000</td>\n",
              "      <td>2.400000</td>\n",
              "      <td>0.000000</td>\n",
              "      <td>2.800000</td>\n",
              "      <td>15.600000</td>\n",
              "      <td>103.400000</td>\n",
              "      <td>182.300000</td>\n",
              "      <td>3.400000</td>\n",
              "      <td>0.000000</td>\n",
              "      <td>29.500000</td>\n",
              "      <td>0.000000</td>\n",
              "      <td>5.800000</td>\n",
              "      <td>0.0</td>\n",
              "      <td>2.800000</td>\n",
              "      <td>8.300000</td>\n",
              "      <td>82.100000</td>\n",
              "      <td>127.900000</td>\n",
              "      <td>2.700000</td>\n",
              "      <td>0.000000</td>\n",
              "      <td>23.600000</td>\n",
              "      <td>0.000000</td>\n",
              "      <td>0.800000</td>\n",
              "      <td>0.0</td>\n",
              "      <td>2.400000</td>\n",
              "      <td>6.000000</td>\n",
              "      <td>88.800000</td>\n",
              "      <td>115.900000</td>\n",
              "      <td>1.000000</td>\n",
              "    </tr>\n",
              "  </tbody>\n",
              "</table>\n",
              "<p>8 rows × 280 columns</p>\n",
              "</div>"
            ],
            "text/plain": [
              "              age         sex      height  ...   chV6_QRSA  chV6_QRSTA       class\n",
              "count  452.000000  452.000000  452.000000  ...  452.000000  452.000000  452.000000\n",
              "mean    46.471239    0.550885  166.188053  ...   19.326106   29.473230    0.542035\n",
              "std     16.466631    0.497955   37.170340  ...   13.503922   18.493927    0.498782\n",
              "min      0.000000    0.000000  105.000000  ...  -44.200000  -38.600000    0.000000\n",
              "25%     36.000000    0.000000  160.000000  ...   11.450000   17.550000    0.000000\n",
              "50%     47.000000    1.000000  164.000000  ...   18.100000   27.900000    1.000000\n",
              "75%     58.000000    1.000000  170.000000  ...   25.825000   41.125000    1.000000\n",
              "max     83.000000    1.000000  780.000000  ...   88.800000  115.900000    1.000000\n",
              "\n",
              "[8 rows x 280 columns]"
            ]
          },
          "metadata": {},
          "execution_count": 9
        }
      ]
    },
    {
      "cell_type": "code",
      "metadata": {
        "colab": {
          "base_uri": "https://localhost:8080/"
        },
        "id": "qC5cqGHOaybF",
        "outputId": "5b9b3221-3675-4dc8-90cd-754384ce7190"
      },
      "source": [
        "data.isnull().sum()"
      ],
      "execution_count": null,
      "outputs": [
        {
          "output_type": "execute_result",
          "data": {
            "text/plain": [
              "age              0\n",
              "sex              0\n",
              "height           0\n",
              "weight           0\n",
              "QRSduration      0\n",
              "                ..\n",
              "chV6_PwaveAmp    0\n",
              "chV6_TwaveAmp    0\n",
              "chV6_QRSA        0\n",
              "chV6_QRSTA       0\n",
              "class            0\n",
              "Length: 280, dtype: int64"
            ]
          },
          "metadata": {},
          "execution_count": 10
        }
      ]
    },
    {
      "cell_type": "markdown",
      "metadata": {
        "id": "6BvKUEZmtaMl"
      },
      "source": [
        "Data Preprocessing"
      ]
    },
    {
      "cell_type": "code",
      "metadata": {
        "id": "W44aMv0cayY3"
      },
      "source": [
        "def fillEmpty(data, uniVal):\n",
        "    categorical = []\n",
        "    for i in range(0,data.shape[1]):     #to differentiate categorical and continuous\n",
        "        temp = []\n",
        "        temp = np.unique(data[data.columns[i]])\n",
        "        if len(temp) <= uniVal:\n",
        "            categorical.append(data.columns[i])\n",
        "    continuous = []\n",
        "    continuous  = list(set(data.columns) - set(categorical))\n",
        "    for j in continuous:\n",
        "        data[j] = data[j].fillna((data[j].mean()))\n",
        "    for k in categorical:\n",
        "        data[k] = data[k].fillna((data[k].mode()[0]))\n",
        "    return pd.DataFrame(data)"
      ],
      "execution_count": null,
      "outputs": []
    },
    {
      "cell_type": "code",
      "metadata": {
        "id": "reG8d-2-ayWF"
      },
      "source": [
        "uniVal = 10\n",
        "data = fillEmpty(data,uniVal) "
      ],
      "execution_count": null,
      "outputs": []
    },
    {
      "cell_type": "code",
      "metadata": {
        "id": "5CwjL_30ayTS"
      },
      "source": [
        "from sklearn.model_selection import train_test_split\n",
        "from sklearn.feature_selection import VarianceThreshold\n",
        "from sklearn.preprocessing import StandardScaler\n",
        "from sklearn.feature_selection import SelectFromModel\n",
        "from sklearn.metrics import roc_auc_score\n",
        "from sklearn.metrics import accuracy_score\n",
        "from sklearn.preprocessing import minmax_scale\n",
        "from sklearn.feature_selection import mutual_info_classif\n",
        "from sklearn.model_selection import cross_val_score\n",
        "from sklearn.model_selection import RepeatedStratifiedKFold\n",
        "from sklearn.feature_selection import RFECV"
      ],
      "execution_count": null,
      "outputs": []
    },
    {
      "cell_type": "code",
      "metadata": {
        "id": "UH20MYHpayRH"
      },
      "source": [
        "from sklearn.neighbors import KNeighborsClassifier\n",
        "from sklearn.tree import DecisionTreeClassifier\n",
        "from sklearn.svm import SVC\n",
        "from sklearn.ensemble import RandomForestClassifier\n",
        "from sklearn.linear_model import LogisticRegression\n",
        "from sklearn.linear_model import Lasso"
      ],
      "execution_count": null,
      "outputs": []
    },
    {
      "cell_type": "code",
      "metadata": {
        "id": "xIZccmKal_qf"
      },
      "source": [
        "def accuracyKnn(X_train,X_test,y_train,y_test):\n",
        "    classifierknn = KNeighborsClassifier(n_neighbors=5, metric='minkowski', p=2)\n",
        "    classifierknn.fit(X_train,y_train)\n",
        "    y_predknn = classifierknn.predict(X_test)\n",
        "    accuracy = accuracy_score(y_test, y_predknn)\n",
        "    print(\"KNN: {}\".format(accuracy))\n",
        "    return accuracy\n",
        "\n",
        "def accuracyDecision(X_train,X_test,y_train,y_test):\n",
        "    classifierdt = DecisionTreeClassifier(criterion='entropy', random_state=0)\n",
        "    classifierdt.fit(X_train,y_train)\n",
        "    y_preddt = classifierdt.predict(X_test)\n",
        "    accuracy1 = accuracy_score(y_test, y_preddt)\n",
        "    print(\"DT: {}\".format(accuracy1))\n",
        "    return accuracy1\n",
        "\n",
        "def accuracySVM(X_train,X_test,y_train,y_test):\n",
        "    classifierSVCl=SVC(kernel='linear',random_state=0) #52.5%, 57.4% with imputation and LDA\n",
        "    classifierSVCr=SVC(kernel='rbf',random_state=0)\n",
        "    classifierSVCl.fit(X_train,y_train)\n",
        "    y_predsvm = classifierSVCl.predict(X_test)\n",
        "    accuracy2 = accuracy_score(y_test, y_predsvm)\n",
        "    print(\"SVM: {}\".format(accuracy2))\n",
        "    return accuracy2\n",
        "\n",
        "def accuracyRF(X_train,X_test,y_train,y_test):\n",
        "    classifierrf=RandomForestClassifier(n_estimators=10, criterion='entropy', random_state=0)\n",
        "    classifierrf.fit(X_train,y_train)\n",
        "    y_predrf = classifierrf.predict(X_test)\n",
        "    accuracy3 = accuracy_score(y_test, y_predrf)\n",
        "    print(\"RF: {}\".format(accuracy3))\n",
        "    return accuracy3\n",
        "\n",
        "def accuracyLoR(X_train,X_test,y_train,y_test):\n",
        "    classifierlor=LogisticRegression()\n",
        "    classifierlor.fit(X_train,y_train)\n",
        "    y_predlor = classifierlor.predict(X_test)\n",
        "    accuracy4 = accuracy_score(y_test, y_predlor)\n",
        "    print(\"LoR: {}\".format(accuracy4))\n",
        "    return accuracy4"
      ],
      "execution_count": null,
      "outputs": []
    },
    {
      "cell_type": "markdown",
      "metadata": {
        "id": "t3sEHEMvbeBt"
      },
      "source": [
        "Filteration"
      ]
    },
    {
      "cell_type": "code",
      "metadata": {
        "id": "5nOiL2MOwhyU"
      },
      "source": [
        "def removeConstantFeature(X_train,X_test):\n",
        "    constant_features = [\n",
        "        feat for feat in X_train.columns if X_train[feat].std() == 0\n",
        "    ]\n",
        "    X_train.drop(labels=constant_features, axis=1, inplace=True)\n",
        "    X_test.drop(labels=constant_features, axis=1, inplace=True)\n",
        "    return X_train,X_test\n",
        "    \n",
        "def removeQuasiConstant(X_train, X_test, varianceAllowed):\n",
        "    sel = VarianceThreshold(threshold=varianceAllowed)\n",
        "    sel.fit(X_train)\n",
        "    features_to_keep = X_train.columns[sel.get_support()]\n",
        "    X_train = sel.transform(X_train)\n",
        "    X_test = sel.transform(X_test)\n",
        "    X_train= pd.DataFrame(X_train)\n",
        "    X_train.columns = features_to_keep\n",
        "    X_test= pd.DataFrame(X_test)\n",
        "    X_test.columns = features_to_keep\n",
        "    return X_train, X_test\n",
        "    \n",
        "def removeDuplicateFeature(X_train, X_test):\n",
        "    duplicated_feat = []\n",
        "    for i in range(0, len(X_train.columns)):\n",
        "        if i % 10 == 0:  # this helps me understand how the loop is going\n",
        "            print(i)\n",
        "        col_1 = X_train.columns[i]\n",
        "        for col_2 in X_train.columns[i + 1:]:\n",
        "            if X_train[col_1].equals(X_train[col_2]):\n",
        "                duplicated_feat.append(col_2)\n",
        "    len(duplicated_feat)\n",
        "    X_train.drop(labels=duplicated_feat, axis=1, inplace=True)\n",
        "    X_test.drop(labels=duplicated_feat, axis=1, inplace=True)\n",
        "    return X_train, X_test\n",
        "\n",
        "def removeCorelatedFeature(X_train, X_test, threshold):\n",
        "    col_corr = set()  # Set of all the names of correlated columns\n",
        "    corr_matrix = X_train.corr(method='spearman')\n",
        "    for i in range(len(corr_matrix.columns)):\n",
        "        for j in range(i):\n",
        "            if abs(corr_matrix.iloc[i, j]) > threshold: # we are interested in absolute coeff value\n",
        "                colname = corr_matrix.columns[i]  # getting the name of column\n",
        "                col_corr.add(colname)\n",
        "    col_corr\n",
        "    X_train_corr = X_train.copy()\n",
        "    X_test_corr = X_test.copy()\n",
        "    X_train_corr.drop(labels=col_corr, axis=1, inplace=True)\n",
        "    X_test_corr.drop(labels=col_corr, axis=1, inplace=True)\n",
        "    return X_train_corr, X_test_corr\n",
        "\n",
        "def removeUnivariate(X_train, X_test, y_train, y_test):\n",
        "    roc_values = []\n",
        "    for feature in X_train.columns:\n",
        "        clf = DecisionTreeClassifier()\n",
        "        clf.fit(X_train[feature].fillna(0).to_frame(), y_train)\n",
        "        y_scored = clf.predict_proba(X_test[feature].fillna(0).to_frame())\n",
        "        roc_values.append(roc_auc_score(y_test, y_scored[:, 1]))\n",
        "    roc_values = pd.Series(roc_values)\n",
        "    roc_values.index = X_train.columns\n",
        "    roc_values.sort_values(ascending=False).plot.bar(figsize=(20, 8))\n",
        "    selected_feat = roc_values[roc_values>0.5]\n",
        "    features = selected_feat.index\n",
        "    notneeded = [x for x in X_train.columns if x not in features]\n",
        "    X_train.drop(labels=notneeded, axis=1, inplace=True)\n",
        "    X_test.drop(labels=notneeded, axis=1, inplace=True)\n",
        "    return X_train, X_test, y_train, y_test\n",
        "\n",
        "def removeLasso(X_train,X_test, y_train, y_test):\n",
        "    scaler = StandardScaler()\n",
        "    scaler.fit(X_train)\n",
        "    sel_ = SelectFromModel(LogisticRegression(C=1, penalty='l1', solver='liblinear'))\n",
        "    sel_.fit(scaler.transform(X_train), y_train)\n",
        "    \n",
        "    X_train_lasso = pd.DataFrame(sel_.transform(X_train))\n",
        "    X_test_lasso = pd.DataFrame(sel_.transform(X_test))\n",
        "    \n",
        "    X_train_lasso.columns = X_train.columns[(sel_.get_support())]\n",
        "    X_test_lasso.columns = X_train.columns[(sel_.get_support())]\n",
        "    return X_train_lasso, X_test_lasso"
      ],
      "execution_count": null,
      "outputs": []
    },
    {
      "cell_type": "markdown",
      "metadata": {
        "id": "gimsTGBVmN1B"
      },
      "source": [
        "Splitting dataset"
      ]
    },
    {
      "cell_type": "code",
      "metadata": {
        "colab": {
          "base_uri": "https://localhost:8080/"
        },
        "id": "nRtby1JQayJv",
        "outputId": "07f6f9ab-fa48-4c75-aa8c-1e55c6e964fe"
      },
      "source": [
        "# separate dataset into train and test\n",
        "X_train, X_test, y_train, y_test = train_test_split(data.drop(labels=['class'], axis=1),data['class'],test_size=0.3,random_state=0)\n",
        "X_train.shape, X_test.shape"
      ],
      "execution_count": null,
      "outputs": [
        {
          "output_type": "execute_result",
          "data": {
            "text/plain": [
              "((316, 279), (136, 279))"
            ]
          },
          "metadata": {},
          "execution_count": 17
        }
      ]
    },
    {
      "cell_type": "code",
      "metadata": {
        "colab": {
          "base_uri": "https://localhost:8080/"
        },
        "id": "xf3X3R3-DP0E",
        "outputId": "75d438df-5120-41f4-f032-d83f238850d7"
      },
      "source": [
        "y_true = [ y for i,y in enumerate(y_test)]\n",
        "print(y_true)"
      ],
      "execution_count": null,
      "outputs": [
        {
          "output_type": "stream",
          "name": "stdout",
          "text": [
            "[1, 0, 0, 1, 1, 0, 0, 0, 1, 0, 0, 0, 1, 1, 0, 1, 1, 0, 0, 0, 0, 0, 1, 1, 0, 1, 1, 1, 0, 0, 1, 1, 0, 0, 0, 1, 0, 0, 0, 0, 1, 0, 1, 1, 1, 0, 0, 1, 1, 0, 1, 0, 1, 1, 1, 1, 0, 1, 0, 0, 0, 0, 0, 1, 0, 1, 0, 1, 1, 1, 1, 1, 1, 1, 1, 1, 1, 1, 1, 0, 0, 1, 0, 0, 1, 0, 1, 1, 1, 1, 1, 0, 1, 0, 0, 1, 1, 0, 1, 1, 1, 1, 1, 0, 0, 0, 1, 1, 1, 0, 0, 1, 0, 1, 1, 0, 0, 1, 0, 0, 0, 0, 1, 0, 1, 0, 1, 0, 1, 1, 1, 1, 0, 0, 0, 1]\n"
          ]
        }
      ]
    },
    {
      "cell_type": "code",
      "metadata": {
        "id": "ZLf0M3mcrp78"
      },
      "source": [
        "import warnings \n",
        "warnings.filterwarnings('ignore')"
      ],
      "execution_count": null,
      "outputs": []
    },
    {
      "cell_type": "code",
      "metadata": {
        "colab": {
          "base_uri": "https://localhost:8080/"
        },
        "id": "OwDiHdY-ayHE",
        "outputId": "d76b1705-2795-4ffe-a793-4e80c7cec931"
      },
      "source": [
        "accKnn = []\n",
        "accDecision = []\n",
        "accSVM=[]\n",
        "accRF=[]\n",
        "accNN=[]\n",
        "accLoR=[]\n",
        "accKnn.append(accuracyKnn(X_train,X_test,y_train,y_test))\n",
        "accDecision.append(accuracyDecision(X_train,X_test,y_train,y_test))\n",
        "accSVM.append(accuracySVM(X_train,X_test,y_train,y_test))\n",
        "accRF.append(accuracyRF(X_train,X_test,y_train,y_test))\n",
        "accLoR.append(accuracyLoR(X_train,X_test,y_train,y_test))\n",
        "print(X_train.shape)\n",
        "X_train=pd.DataFrame(X_train)\n",
        "X_test=pd.DataFrame(X_test)"
      ],
      "execution_count": null,
      "outputs": [
        {
          "output_type": "stream",
          "name": "stdout",
          "text": [
            "KNN: 0.6323529411764706\n",
            "DT: 0.6838235294117647\n",
            "SVM: 0.6397058823529411\n",
            "RF: 0.7205882352941176\n",
            "LoR: 0.6470588235294118\n",
            "(316, 279)\n"
          ]
        }
      ]
    },
    {
      "cell_type": "markdown",
      "metadata": {
        "id": "ppnmlWQmmUXM"
      },
      "source": [
        "Constant Features"
      ]
    },
    {
      "cell_type": "code",
      "metadata": {
        "colab": {
          "base_uri": "https://localhost:8080/"
        },
        "id": "TfFCLVorayEM",
        "outputId": "315d88ae-0bff-4855-dd5a-9bcc0342ca12"
      },
      "source": [
        "sel = VarianceThreshold(threshold=0)\n",
        "sel.fit(X_train)  # fit finds the features with zero variance\n",
        "sum(sel.get_support())"
      ],
      "execution_count": null,
      "outputs": [
        {
          "output_type": "execute_result",
          "data": {
            "text/plain": [
              "257"
            ]
          },
          "metadata": {},
          "execution_count": 21
        }
      ]
    },
    {
      "cell_type": "code",
      "metadata": {
        "colab": {
          "base_uri": "https://localhost:8080/"
        },
        "id": "aOz4Bic8ayBt",
        "outputId": "fba867d4-6c0b-4453-97a9-9ae731eb255a"
      },
      "source": [
        "X_train, X_test = removeConstantFeature(X_train,X_test)\n",
        "print(X_train.shape)\n",
        "accKnn.append(accuracyKnn(X_train,X_test,y_train,y_test))\n",
        "accDecision.append(accuracyDecision(X_train,X_test,y_train,y_test))\n",
        "accSVM.append(accuracySVM(X_train,X_test,y_train,y_test))\n",
        "accRF.append(accuracyRF(X_train,X_test,y_train,y_test))\n",
        "accLoR.append(accuracyLoR(X_train,X_test,y_train,y_test))"
      ],
      "execution_count": null,
      "outputs": [
        {
          "output_type": "stream",
          "name": "stdout",
          "text": [
            "(316, 257)\n",
            "KNN: 0.6323529411764706\n",
            "DT: 0.6911764705882353\n",
            "SVM: 0.6397058823529411\n",
            "RF: 0.7058823529411765\n",
            "LoR: 0.6544117647058824\n"
          ]
        }
      ]
    },
    {
      "cell_type": "markdown",
      "metadata": {
        "id": "x7w7Qsw8mb_p"
      },
      "source": [
        "Quasi constant features"
      ]
    },
    {
      "cell_type": "code",
      "metadata": {
        "colab": {
          "base_uri": "https://localhost:8080/"
        },
        "id": "FUi8-2D1ax_H",
        "outputId": "fbc94365-de8a-4dff-a852-a5eb8aab19f9"
      },
      "source": [
        "sel = VarianceThreshold(\n",
        "    threshold=0.01)  # 0.01 indicates 99% of observations approximately\n",
        "\n",
        "sel.fit(X_train)  # fit finds the features with low variance\n",
        "sum(sel.get_support())"
      ],
      "execution_count": null,
      "outputs": [
        {
          "output_type": "execute_result",
          "data": {
            "text/plain": [
              "214"
            ]
          },
          "metadata": {},
          "execution_count": 23
        }
      ]
    },
    {
      "cell_type": "code",
      "metadata": {
        "colab": {
          "base_uri": "https://localhost:8080/"
        },
        "id": "iYEixcAknCKV",
        "outputId": "901fe9d1-fd4a-4d5e-c800-1584844cea52"
      },
      "source": [
        "print(len([x for x in X_train.columns if x not in X_train.columns[sel.get_support()]]))"
      ],
      "execution_count": null,
      "outputs": [
        {
          "output_type": "stream",
          "name": "stdout",
          "text": [
            "43\n"
          ]
        }
      ]
    },
    {
      "cell_type": "code",
      "metadata": {
        "colab": {
          "base_uri": "https://localhost:8080/"
        },
        "id": "Runl1mGIbqp3",
        "outputId": "694974a6-eef7-4bd7-bf54-00c2c5aa5c58"
      },
      "source": [
        "varianceAllowed = 0.01\n",
        "X_train_quasi, X_test_quasi = removeQuasiConstant(X_train, X_test, varianceAllowed)\n",
        "print(X_train_quasi.shape)\n",
        "accKnn.append(accuracyKnn(X_train_quasi,X_test_quasi,y_train,y_test))\n",
        "accDecision.append(accuracyDecision(X_train_quasi,X_test_quasi,y_train,y_test))\n",
        "accSVM.append(accuracySVM(X_train_quasi,X_test_quasi,y_train,y_test))\n",
        "accRF.append(accuracyRF(X_train_quasi,X_test_quasi,y_train,y_test))\n",
        "accLoR.append(accuracyLoR(X_train_quasi,X_test_quasi,y_train,y_test))"
      ],
      "execution_count": null,
      "outputs": [
        {
          "output_type": "stream",
          "name": "stdout",
          "text": [
            "(316, 214)\n",
            "KNN: 0.6323529411764706\n",
            "DT: 0.6838235294117647\n",
            "SVM: 0.6397058823529411\n",
            "RF: 0.75\n",
            "LoR: 0.6470588235294118\n"
          ]
        }
      ]
    },
    {
      "cell_type": "markdown",
      "metadata": {
        "id": "wvVkVm37mfGC"
      },
      "source": [
        "Duplicated features"
      ]
    },
    {
      "cell_type": "code",
      "metadata": {
        "colab": {
          "base_uri": "https://localhost:8080/"
        },
        "id": "d2EIfw_NbqfL",
        "outputId": "832b1522-fb66-44be-976c-e743b269cdfa"
      },
      "source": [
        "# check for duplicated features in the training set\n",
        "duplicated_feat = []\n",
        "for i in range(0, len(X_train.columns)):\n",
        "    #if i % 10 == 0:  # this helps me understand how the loop is going\n",
        "        #print(i)\n",
        "\n",
        "    col_1 = X_train.columns[i]\n",
        "\n",
        "    for col_2 in X_train.columns[i + 1:]:\n",
        "        if X_train[col_1].equals(X_train[col_2]):\n",
        "            duplicated_feat.append(col_2)\n",
        "print(len(set(duplicated_feat)))"
      ],
      "execution_count": null,
      "outputs": [
        {
          "output_type": "stream",
          "name": "stdout",
          "text": [
            "2\n"
          ]
        }
      ]
    },
    {
      "cell_type": "code",
      "metadata": {
        "colab": {
          "base_uri": "https://localhost:8080/"
        },
        "id": "6wxTPG8CbqaQ",
        "outputId": "b836a842-b6c1-4288-f52b-9f4487898616"
      },
      "source": [
        "X_train_dup, X_test_dup = removeDuplicateFeature(X_train_quasi, X_test_quasi)\n",
        "print(X_train_dup.shape)\n",
        "accKnn.append(accuracyKnn(X_train_dup,X_test_dup,y_train,y_test))\n",
        "accDecision.append(accuracyDecision(X_train_dup,X_test_dup,y_train,y_test))\n",
        "accSVM.append(accuracySVM(X_train_dup,X_test_dup,y_train,y_test))\n",
        "accRF.append(accuracyRF(X_train_dup,X_test_dup,y_train,y_test))\n",
        "accLoR.append(accuracyLoR(X_train_dup,X_test_dup,y_train,y_test))"
      ],
      "execution_count": null,
      "outputs": [
        {
          "output_type": "stream",
          "name": "stdout",
          "text": [
            "0\n",
            "10\n",
            "20\n",
            "30\n",
            "40\n",
            "50\n",
            "60\n",
            "70\n",
            "80\n",
            "90\n",
            "100\n",
            "110\n",
            "120\n",
            "130\n",
            "140\n",
            "150\n",
            "160\n",
            "170\n",
            "180\n",
            "190\n",
            "200\n",
            "210\n",
            "(316, 214)\n",
            "KNN: 0.6323529411764706\n",
            "DT: 0.6838235294117647\n",
            "SVM: 0.6397058823529411\n",
            "RF: 0.75\n",
            "LoR: 0.6470588235294118\n"
          ]
        }
      ]
    },
    {
      "cell_type": "markdown",
      "metadata": {
        "id": "tB7l5GJynLBg"
      },
      "source": [
        "Correlation- Spearman"
      ]
    },
    {
      "cell_type": "code",
      "metadata": {
        "colab": {
          "base_uri": "https://localhost:8080/",
          "height": 206
        },
        "id": "43baMaFPbqVz",
        "outputId": "5c260b63-e606-4c63-d5ba-671b466cd4e0"
      },
      "source": [
        "# build a dataframe with the correlation(Spearman) between features\n",
        "# remember that the absolute value of the correlation\n",
        "# coefficient is important and not the sign\n",
        "\n",
        "corrmat = X_train.corr(method='spearman')\n",
        "corrmat = corrmat.abs().unstack() # absolute value of corr coef\n",
        "corrmat = corrmat.sort_values(ascending=False)\n",
        "corrmat = corrmat[corrmat >= 0.8]\n",
        "corrmat = corrmat[corrmat < 1]\n",
        "corrmat = pd.DataFrame(corrmat).reset_index()\n",
        "corrmat.columns = ['feature1', 'feature2', 'corr']\n",
        "corrmat.head()"
      ],
      "execution_count": null,
      "outputs": [
        {
          "output_type": "execute_result",
          "data": {
            "text/html": [
              "<div>\n",
              "<style scoped>\n",
              "    .dataframe tbody tr th:only-of-type {\n",
              "        vertical-align: middle;\n",
              "    }\n",
              "\n",
              "    .dataframe tbody tr th {\n",
              "        vertical-align: top;\n",
              "    }\n",
              "\n",
              "    .dataframe thead th {\n",
              "        text-align: right;\n",
              "    }\n",
              "</style>\n",
              "<table border=\"1\" class=\"dataframe\">\n",
              "  <thead>\n",
              "    <tr style=\"text-align: right;\">\n",
              "      <th></th>\n",
              "      <th>feature1</th>\n",
              "      <th>feature2</th>\n",
              "      <th>corr</th>\n",
              "    </tr>\n",
              "  </thead>\n",
              "  <tbody>\n",
              "    <tr>\n",
              "      <th>0</th>\n",
              "      <td>chDI_RPwave</td>\n",
              "      <td>chDI_RPwaveAmp</td>\n",
              "      <td>0.999997</td>\n",
              "    </tr>\n",
              "    <tr>\n",
              "      <th>1</th>\n",
              "      <td>chDI_RPwaveAmp</td>\n",
              "      <td>chDI_RPwave</td>\n",
              "      <td>0.999997</td>\n",
              "    </tr>\n",
              "    <tr>\n",
              "      <th>2</th>\n",
              "      <td>chV2_SPwave</td>\n",
              "      <td>chV2_SPwaveAmp</td>\n",
              "      <td>0.999995</td>\n",
              "    </tr>\n",
              "    <tr>\n",
              "      <th>3</th>\n",
              "      <td>chV2_SPwaveAmp</td>\n",
              "      <td>chV2_SPwave</td>\n",
              "      <td>0.999995</td>\n",
              "    </tr>\n",
              "    <tr>\n",
              "      <th>4</th>\n",
              "      <td>chV3_RPwave</td>\n",
              "      <td>chV3_RPwaveAmp</td>\n",
              "      <td>0.999987</td>\n",
              "    </tr>\n",
              "  </tbody>\n",
              "</table>\n",
              "</div>"
            ],
            "text/plain": [
              "         feature1        feature2      corr\n",
              "0     chDI_RPwave  chDI_RPwaveAmp  0.999997\n",
              "1  chDI_RPwaveAmp     chDI_RPwave  0.999997\n",
              "2     chV2_SPwave  chV2_SPwaveAmp  0.999995\n",
              "3  chV2_SPwaveAmp     chV2_SPwave  0.999995\n",
              "4     chV3_RPwave  chV3_RPwaveAmp  0.999987"
            ]
          },
          "metadata": {},
          "execution_count": 28
        }
      ]
    },
    {
      "cell_type": "code",
      "metadata": {
        "colab": {
          "base_uri": "https://localhost:8080/"
        },
        "id": "CX1fLD5LbqSn",
        "outputId": "16369cc1-a6b4-4f03-a395-56cd2f1b8fe9"
      },
      "source": [
        "threshold = 0.8\n",
        "X_train_corr, X_test_corr = removeCorelatedFeature(X_train_dup, X_test_dup, threshold)\n",
        "print(X_train_corr.shape)\n",
        "accKnn.append(accuracyKnn(X_train_corr,X_test_corr,y_train,y_test))\n",
        "accDecision.append(accuracyDecision(X_train_corr,X_test_corr,y_train,y_test))\n",
        "accSVM.append(accuracySVM(X_train_corr,X_test_corr,y_train,y_test))\n",
        "accRF.append(accuracyRF(X_train_corr,X_test_corr,y_train,y_test))\n",
        "accLoR.append(accuracyLoR(X_train_corr,X_test_corr,y_train,y_test))"
      ],
      "execution_count": null,
      "outputs": [
        {
          "output_type": "stream",
          "name": "stdout",
          "text": [
            "(316, 147)\n",
            "KNN: 0.6323529411764706\n",
            "DT: 0.6544117647058824\n",
            "SVM: 0.6838235294117647\n",
            "RF: 0.7058823529411765\n",
            "LoR: 0.6911764705882353\n"
          ]
        }
      ]
    },
    {
      "cell_type": "markdown",
      "metadata": {
        "id": "NLdjy1cTnfAb"
      },
      "source": [
        "Univariate features with DT"
      ]
    },
    {
      "cell_type": "code",
      "metadata": {
        "id": "TsLRytaUbqPK"
      },
      "source": [
        "# loop to build a tree, make predictions and get the roc-auc\n",
        "# for each feature of the train set\n",
        "\n",
        "roc_values = []\n",
        "for feature in X_train_corr.columns:\n",
        "    clf = DecisionTreeClassifier()\n",
        "    clf.fit(X_train_corr[feature].fillna(0).to_frame(), y_train)\n",
        "    y_scored = clf.predict_proba(X_test_corr[feature].fillna(0).to_frame())\n",
        "    roc_values.append(roc_auc_score(y_test, y_scored[:, 1]))"
      ],
      "execution_count": null,
      "outputs": []
    },
    {
      "cell_type": "code",
      "metadata": {
        "colab": {
          "base_uri": "https://localhost:8080/"
        },
        "id": "fdVo_N-adSiA",
        "outputId": "eabbe4c9-fe35-4527-ff45-a23cc4d86e1f"
      },
      "source": [
        "# let's add the variable names and order it for clearer visualisation\n",
        "roc_values = pd.Series(roc_values)\n",
        "roc_values.index = X_train_corr.columns\n",
        "roc_values.sort_values(ascending=False)"
      ],
      "execution_count": null,
      "outputs": [
        {
          "output_type": "execute_result",
          "data": {
            "text/plain": [
              "chV2_Rwave        0.683268\n",
              "chDI_Swave        0.666884\n",
              "height            0.658529\n",
              "chV1_Swave        0.642578\n",
              "chV4_RwaveAmp     0.630208\n",
              "                    ...   \n",
              "chDII_Rwave       0.476888\n",
              "chV4_RPwave       0.469944\n",
              "chDI_JJwaveAmp    0.468967\n",
              "chAVR_RPwave      0.450738\n",
              "chV3_QRSA         0.435981\n",
              "Length: 147, dtype: float64"
            ]
          },
          "metadata": {},
          "execution_count": 31
        }
      ]
    },
    {
      "cell_type": "code",
      "metadata": {
        "colab": {
          "base_uri": "https://localhost:8080/",
          "height": 713
        },
        "id": "FDAbmWQjcOoS",
        "outputId": "19eea0ff-450e-4dea-e7da-c8b036f5f97a"
      },
      "source": [
        "X_train_univariate, X_test_univariate, y_train_univariate, y_test_univariate = removeUnivariate(X_train_corr, X_test_corr, y_train, y_test)\n",
        "print(X_train_univariate.shape)\n",
        "accKnn.append(accuracyKnn(X_train_univariate, X_test_univariate, y_train_univariate, y_test_univariate))\n",
        "accDecision.append(accuracyDecision(X_train_univariate, X_test_univariate, y_train_univariate, y_test_univariate))\n",
        "accSVM.append(accuracySVM(X_train_univariate, X_test_univariate, y_train_univariate, y_test_univariate))\n",
        "accRF.append(accuracyRF(X_train_univariate, X_test_univariate, y_train_univariate, y_test_univariate))\n",
        "accLoR.append(accuracyLoR(X_train_univariate, X_test_univariate, y_train_univariate, y_test_univariate))"
      ],
      "execution_count": null,
      "outputs": [
        {
          "output_type": "stream",
          "name": "stdout",
          "text": [
            "(316, 112)\n",
            "KNN: 0.6470588235294118\n",
            "DT: 0.6617647058823529\n",
            "SVM: 0.6397058823529411\n",
            "RF: 0.6985294117647058\n",
            "LoR: 0.7279411764705882\n"
          ]
        },
        {
          "output_type": "display_data",
          "data": {
            "image/png": "[encoded data removed]",
            "text/plain": [
              "<Figure size 1440x576 with 1 Axes>"
            ]
          },
          "metadata": {
            "needs_background": "light"
          }
        }
      ]
    },
    {
      "cell_type": "code",
      "metadata": {
        "id": "gcJBAf7-ujuP"
      },
      "source": [
        "X_train_uni_copy = X_train_univariate.copy()\n",
        "X_test_uni_copy = X_test_univariate.copy()"
      ],
      "execution_count": null,
      "outputs": []
    },
    {
      "cell_type": "markdown",
      "metadata": {
        "id": "caAv-153n5YT"
      },
      "source": [
        "Mutual Information"
      ]
    },
    {
      "cell_type": "code",
      "metadata": {
        "colab": {
          "base_uri": "https://localhost:8080/"
        },
        "id": "xEg3XIwHsYWL",
        "outputId": "857e312e-799e-4aff-9423-71cdf56cc123"
      },
      "source": [
        "from sklearn.feature_selection import SelectPercentile\n",
        "from sklearn.feature_selection import mutual_info_classif\n",
        "from sklearn.preprocessing import minmax_scale\n",
        "\n",
        "mm_X=minmax_scale(X_train_univariate, feature_range=(0, 1), axis=0, copy=True)\n",
        "mm_X = pd.DataFrame(mm_X)\n",
        "mm_X1=minmax_scale(X_test_univariate, feature_range=(0, 1), axis=0, copy=True)\n",
        "mm_X1 = pd.DataFrame(mm_X1)\n",
        "\n",
        "sel_ = SelectPercentile(mutual_info_classif, percentile=10).fit(mm_X, y_train_univariate)\n",
        "features = sel_.get_support()\n",
        "sel_features = [ f for i,f in enumerate(mm_X.columns) if features[i]]\n",
        "print(sel_features)\n",
        "print(len(sel_features))"
      ],
      "execution_count": null,
      "outputs": [
        {
          "output_type": "stream",
          "name": "stdout",
          "text": [
            "[9, 12, 45, 54, 58, 72, 73, 74, 87, 97, 101, 107]\n",
            "12\n"
          ]
        }
      ]
    },
    {
      "cell_type": "code",
      "metadata": {
        "colab": {
          "base_uri": "https://localhost:8080/"
        },
        "id": "r7KfUIGisdtb",
        "outputId": "d96c6dc9-3aed-49db-9ec0-1c83bf5fe2f2"
      },
      "source": [
        "mm_X.drop(labels=sel_features, axis=1, inplace=True)\n",
        "mm_X1.drop(labels=sel_features, axis=1, inplace=True)\n",
        "print(mm_X.shape)"
      ],
      "execution_count": null,
      "outputs": [
        {
          "output_type": "stream",
          "name": "stdout",
          "text": [
            "(316, 100)\n"
          ]
        }
      ]
    },
    {
      "cell_type": "code",
      "metadata": {
        "colab": {
          "base_uri": "https://localhost:8080/"
        },
        "id": "FgewHw7Isggy",
        "outputId": "2a9b85e8-d6be-4327-fb37-1cf49b6142eb"
      },
      "source": [
        "accKnn.append(accuracyKnn(mm_X, mm_X1, y_train_univariate, y_test_univariate))\n",
        "accDecision.append(accuracyDecision(mm_X, mm_X1, y_train_univariate, y_test_univariate))\n",
        "accSVM.append(accuracySVM(mm_X, mm_X1, y_train_univariate, y_test_univariate))\n",
        "accRF.append(accuracyRF(mm_X, mm_X1, y_train_univariate, y_test_univariate))\n",
        "accLoR.append(accuracyLoR(mm_X, mm_X1, y_train_univariate, y_test_univariate))"
      ],
      "execution_count": null,
      "outputs": [
        {
          "output_type": "stream",
          "name": "stdout",
          "text": [
            "KNN: 0.6470588235294118\n",
            "DT: 0.6029411764705882\n",
            "SVM: 0.6397058823529411\n",
            "RF: 0.5073529411764706\n",
            "LoR: 0.6764705882352942\n"
          ]
        }
      ]
    },
    {
      "cell_type": "markdown",
      "metadata": {
        "id": "ZRXHmilToAdI"
      },
      "source": [
        "Embedded(Lasso)"
      ]
    },
    {
      "cell_type": "code",
      "metadata": {
        "id": "QCnwFdSIgnmc",
        "colab": {
          "base_uri": "https://localhost:8080/"
        },
        "outputId": "57b56ae1-e261-407a-da03-2dd4401fd066"
      },
      "source": [
        "X_train_lasso, X_test_lasso = removeLasso(X_train_uni_copy, X_test_uni_copy, y_train, y_test)\n",
        "print(X_train_lasso.shape) #reduced to 12\n",
        "accKnn.append(accuracyKnn(X_train_lasso,X_test_lasso,y_train,y_test))\n",
        "accDecision.append(accuracyDecision(X_train_lasso,X_test_lasso,y_train,y_test))\n",
        "accSVM.append(accuracySVM(X_train_lasso, X_test_lasso, y_train, y_test))\n",
        "accRF.append(accuracyRF(X_train_lasso, X_test_lasso, y_train, y_test))\n",
        "accLoR.append(accuracyLoR(X_train_lasso, X_test_lasso, y_train, y_test))"
      ],
      "execution_count": null,
      "outputs": [
        {
          "output_type": "stream",
          "name": "stdout",
          "text": [
            "(316, 83)\n",
            "KNN: 0.625\n",
            "DT: 0.7205882352941176\n",
            "SVM: 0.7205882352941176\n",
            "RF: 0.6985294117647058\n",
            "LoR: 0.6838235294117647\n"
          ]
        }
      ]
    },
    {
      "cell_type": "markdown",
      "metadata": {
        "id": "IxQcSA-3oZrG"
      },
      "source": [
        "Wrapper"
      ]
    },
    {
      "cell_type": "markdown",
      "metadata": {
        "id": "a-SAA2nQoqIg"
      },
      "source": [
        "Step forward feature selection"
      ]
    },
    {
      "cell_type": "code",
      "metadata": {
        "colab": {
          "base_uri": "https://localhost:8080/"
        },
        "id": "1unNHyLToZNM",
        "outputId": "87ec1d50-fe1f-4491-bd67-e9069000564b"
      },
      "source": [
        "# step forward feature selection\n",
        "\n",
        "from mlxtend.feature_selection import SequentialFeatureSelector as SFS\n",
        "\n",
        "sfs = SFS(RandomForestClassifier(n_jobs=-1), \n",
        "           k_features=7, \n",
        "           forward=True, \n",
        "           floating=False, \n",
        "           verbose=2,\n",
        "           scoring='roc_auc',\n",
        "           cv=3)\n",
        "\n",
        "sfs = sfs.fit(X_train_lasso, y_train)\n"
      ],
      "execution_count": null,
      "outputs": [
        {
          "output_type": "stream",
          "name": "stderr",
          "text": [
            "[Parallel(n_jobs=1)]: Using backend SequentialBackend with 1 concurrent workers.\n",
            "[Parallel(n_jobs=1)]: Done   1 out of   1 | elapsed:    2.0s remaining:    0.0s\n",
            "[Parallel(n_jobs=1)]: Done  83 out of  83 | elapsed:  1.3min finished\n",
            "\n",
            "[2021-09-15 13:08:35] Features: 1/7 -- score: 0.6827963368772875[Parallel(n_jobs=1)]: Using backend SequentialBackend with 1 concurrent workers.\n",
            "[Parallel(n_jobs=1)]: Done   1 out of   1 | elapsed:    0.9s remaining:    0.0s\n",
            "[Parallel(n_jobs=1)]: Done  82 out of  82 | elapsed:  1.3min finished\n",
            "\n",
            "[2021-09-15 13:09:52] Features: 2/7 -- score: 0.7533496300872832[Parallel(n_jobs=1)]: Using backend SequentialBackend with 1 concurrent workers.\n",
            "[Parallel(n_jobs=1)]: Done   1 out of   1 | elapsed:    0.9s remaining:    0.0s\n",
            "[Parallel(n_jobs=1)]: Done  81 out of  81 | elapsed:  1.3min finished\n",
            "\n",
            "[2021-09-15 13:11:08] Features: 3/7 -- score: 0.8044354889169202[Parallel(n_jobs=1)]: Using backend SequentialBackend with 1 concurrent workers.\n",
            "[Parallel(n_jobs=1)]: Done   1 out of   1 | elapsed:    1.0s remaining:    0.0s\n",
            "[Parallel(n_jobs=1)]: Done  80 out of  80 | elapsed:  1.3min finished\n",
            "\n",
            "[2021-09-15 13:12:24] Features: 4/7 -- score: 0.8506063327441044[Parallel(n_jobs=1)]: Using backend SequentialBackend with 1 concurrent workers.\n",
            "[Parallel(n_jobs=1)]: Done   1 out of   1 | elapsed:    1.0s remaining:    0.0s\n",
            "[Parallel(n_jobs=1)]: Done  79 out of  79 | elapsed:  1.3min finished\n",
            "\n",
            "[2021-09-15 13:13:39] Features: 5/7 -- score: 0.8681689186435152[Parallel(n_jobs=1)]: Using backend SequentialBackend with 1 concurrent workers.\n",
            "[Parallel(n_jobs=1)]: Done   1 out of   1 | elapsed:    1.0s remaining:    0.0s\n",
            "[Parallel(n_jobs=1)]: Done  78 out of  78 | elapsed:  1.2min finished\n",
            "\n",
            "[2021-09-15 13:14:53] Features: 6/7 -- score: 0.8768385691750368[Parallel(n_jobs=1)]: Using backend SequentialBackend with 1 concurrent workers.\n",
            "[Parallel(n_jobs=1)]: Done   1 out of   1 | elapsed:    0.9s remaining:    0.0s\n",
            "[Parallel(n_jobs=1)]: Done  77 out of  77 | elapsed:  1.2min finished\n",
            "\n",
            "[2021-09-15 13:16:07] Features: 7/7 -- score: 0.8849349238221501"
          ]
        }
      ]
    },
    {
      "cell_type": "code",
      "metadata": {
        "colab": {
          "base_uri": "https://localhost:8080/"
        },
        "id": "qO-jdRavv6Eb",
        "outputId": "82e3da5a-eb77-45b1-c389-bfd395cbd5a1"
      },
      "source": [
        "feat = X_train_lasso.columns[list(sfs.k_feature_idx_)]\n",
        "print(feat)\n",
        "X_train_sfs = sfs.transform(X_train_lasso)\n",
        "X_test_sfs = sfs.transform(X_test_lasso)"
      ],
      "execution_count": null,
      "outputs": [
        {
          "output_type": "stream",
          "name": "stdout",
          "text": [
            "Index(['T', 'heartrate', 'chAVF_Qwave', 'chV1_RPwave', 'chV3_Swave',\n",
            "       'chV5_JJwaveAmp', 'chV5_SwaveAmp'],\n",
            "      dtype='object')\n"
          ]
        }
      ]
    },
    {
      "cell_type": "code",
      "metadata": {
        "id": "YTebzpZIcOTm",
        "colab": {
          "base_uri": "https://localhost:8080/"
        },
        "outputId": "a57f5571-f398-40f2-b32b-7432d84fdf43"
      },
      "source": [
        "accKnn.append(accuracyKnn(X_train_sfs,X_test_sfs,y_train,y_test))\n",
        "accDecision.append(accuracyDecision(X_train_sfs,X_test_sfs,y_train,y_test))\n",
        "accSVM.append(accuracySVM(X_train_sfs,X_test_sfs, y_train, y_test))\n",
        "accRF.append(accuracyRF(X_train_sfs,X_test_sfs, y_train, y_test))\n",
        "accLoR.append(accuracyLoR(X_train_sfs,X_test_sfs, y_train, y_test))"
      ],
      "execution_count": null,
      "outputs": [
        {
          "output_type": "stream",
          "name": "stdout",
          "text": [
            "KNN: 0.7573529411764706\n",
            "DT: 0.7132352941176471\n",
            "SVM: 0.6544117647058824\n",
            "RF: 0.7794117647058824\n",
            "LoR: 0.6397058823529411\n"
          ]
        }
      ]
    },
    {
      "cell_type": "code",
      "metadata": {
        "colab": {
          "base_uri": "https://localhost:8080/"
        },
        "id": "wb0r6CBXCVSy",
        "outputId": "99c82a37-a8d9-4442-de62-f9dc04fc68c6"
      },
      "source": [
        "classifierrf=RandomForestClassifier(n_estimators=10, criterion='entropy', random_state=0)\n",
        "classifierrf.fit(X_train_sfs,y_train)\n",
        "y_predrf = classifierrf.predict(X_test_sfs)\n",
        "accuracy3 = accuracy_score(y_test, y_predrf)\n",
        "print(\"RF: {}\".format(accuracy3))\n",
        "y_pred = y_predrf.tolist()\n",
        "print('{}'.format(y_pred))"
      ],
      "execution_count": null,
      "outputs": [
        {
          "output_type": "stream",
          "name": "stdout",
          "text": [
            "RF: 0.7794117647058824\n",
            "[1, 0, 0, 0, 1, 1, 0, 0, 1, 0, 0, 0, 1, 1, 1, 1, 0, 0, 0, 0, 0, 0, 1, 1, 0, 1, 1, 1, 0, 0, 1, 1, 0, 0, 0, 1, 0, 0, 0, 0, 0, 0, 1, 1, 1, 0, 1, 1, 0, 1, 1, 1, 1, 1, 0, 0, 0, 1, 0, 0, 0, 0, 0, 1, 0, 0, 0, 0, 0, 1, 1, 1, 1, 0, 1, 0, 0, 0, 1, 1, 0, 0, 0, 0, 1, 0, 0, 1, 1, 0, 1, 0, 1, 0, 0, 1, 1, 0, 1, 1, 0, 1, 1, 0, 0, 1, 0, 1, 1, 0, 1, 1, 0, 1, 1, 0, 0, 1, 0, 0, 0, 0, 1, 0, 1, 0, 1, 1, 1, 0, 1, 0, 0, 0, 0, 0]\n"
          ]
        }
      ]
    },
    {
      "cell_type": "markdown",
      "metadata": {
        "id": "kmrTAC8Do3Dk"
      },
      "source": [
        "Step backward feature selection"
      ]
    },
    {
      "cell_type": "code",
      "metadata": {
        "id": "S6spKilZdZtE",
        "colab": {
          "base_uri": "https://localhost:8080/"
        },
        "outputId": "9a52cce8-fb35-4375-cbe1-3a268b29e5e9"
      },
      "source": [
        "sbs = SFS(RandomForestClassifier(n_jobs=-1), \n",
        "           k_features=7, \n",
        "           forward=False, \n",
        "           floating=False, \n",
        "           verbose=2,\n",
        "           scoring='roc_auc',\n",
        "           cv=5)\n",
        "\n",
        "sbs = sbs.fit(np.array(X_train_lasso), y_train)"
      ],
      "execution_count": null,
      "outputs": [
        {
          "output_type": "stream",
          "name": "stderr",
          "text": [
            "[Parallel(n_jobs=1)]: Using backend SequentialBackend with 1 concurrent workers.\n",
            "[Parallel(n_jobs=1)]: Done   1 out of   1 | elapsed:    1.8s remaining:    0.0s\n",
            "\n",
            "STOPPING EARLY DUE TO KEYBOARD INTERRUPT..."
          ]
        }
      ]
    },
    {
      "cell_type": "code",
      "metadata": {
        "id": "j6IB-r0wdZos",
        "colab": {
          "base_uri": "https://localhost:8080/"
        },
        "outputId": "31d6cc0e-9a23-49c1-b000-66b20e1a80ba"
      },
      "source": [
        "feat = X_train_lasso.columns[list(sbs.k_feature_idx_)]\n",
        "print(feat)\n",
        "print('Total optimal features: {}'.format(len(feat)))\n",
        "X_train_sbs = sbs.transform(X_train_lasso)\n",
        "X_test_sbs = sbs.transform(X_test_lasso)"
      ],
      "execution_count": null,
      "outputs": [
        {
          "output_type": "stream",
          "name": "stdout",
          "text": [
            "Index(['sex', 'height', 'weight', 'Tinterval', 'Pinterval', 'QRS', 'T', 'P',\n",
            "       'J', 'heartrate', 'chDI_Rwave', 'chDI_Swave',\n",
            "       'chDI_intrinsicReflecttions', 'chDII_Qwave', 'chDII_Swave',\n",
            "       'chDII_intrinsicReflecttions', 'chDII_DD_RRwaveExists', 'chDIII_Qwave',\n",
            "       'chDIII_Rwave', 'chDIII_Swave', 'chDIII_RPwave',\n",
            "       'chDIII_intrinsicReflecttions', 'chDIII_DD_RRwaveExists',\n",
            "       'chDIII_DD_RPwaveExists', 'chAVR_Swave', 'chAVR_intrinsicReflecttions',\n",
            "       'chAVL_Qwave', 'chAVL_Rwave', 'chAVL_Swave',\n",
            "       'chAVL_intrinsicReflecttions', 'chAVF_Qwave', 'chAVF_Rwave',\n",
            "       'chAVF_Swave', 'chAVF_SPwave', 'chAVF_intrinsicReflecttions',\n",
            "       'chV1_Qwave', 'chV1_Rwave', 'chV1_RPwave', 'chV2_Qwave', 'chV2_Rwave',\n",
            "       'chV2_Swave', 'chV2_RPwave', 'chV2_RPwaveExists',\n",
            "       'chV2_DD_RTwaveExists', 'chV3_Qwave', 'chV3_Swave', 'chV3_RRwaveExists',\n",
            "       'chV4_intrinsicReflecttions', 'chV5_Qwave', 'chV5_Rwave', 'chV5_Swave',\n",
            "       'chV5_RPwave', 'chV5_intrinsicReflecttions', 'chV6_Swave',\n",
            "       'chV6_intrinsicReflecttions', 'chV6_DD_RTwaveExists', 'chDI_PwaveAmp',\n",
            "       'chDI_QRSA', 'chDI_QRSTA', 'chDII_JJwaveAmp', 'chDII_RwaveAmp',\n",
            "       'chDII_TwaveAmp', 'chAVR_JJwaveAmp', 'chAVR_QRSA', 'chAVL_JJwaveAmp',\n",
            "       'chV1_TwaveAmp', 'chV1_QRSA', 'chV1_QRSTA', 'chV2_RwaveAmp',\n",
            "       'chV2_SwaveAmp', 'chV2_PwaveAmp', 'chV2_QRSTA', 'chV3_RwaveAmp',\n",
            "       'chV3_SwaveAmp', 'chV3_PwaveAmp', 'chV3_QRSTA', 'chV4_JJwaveAmp',\n",
            "       'chV4_PwaveAmp', 'chV4_QRSTA', 'chV5_JJwaveAmp', 'chV5_SwaveAmp',\n",
            "       'chV5_PwaveAmp', 'chV5_QRSA'],\n",
            "      dtype='object')\n",
            "Total optimal features: 83\n"
          ]
        }
      ]
    },
    {
      "cell_type": "code",
      "metadata": {
        "id": "CltNnY2EdZmG",
        "colab": {
          "base_uri": "https://localhost:8080/"
        },
        "outputId": "367aa6e6-a09b-4ff5-b076-27ad72c6123c"
      },
      "source": [
        "accKnn.append(accuracyKnn(X_train_sbs,X_test_sbs,y_train,y_test))\n",
        "accDecision.append(accuracyDecision(X_train_sbs,X_test_sbs,y_train,y_test))\n",
        "accSVM.append(accuracySVM(X_train_sbs,X_test_sbs, y_train, y_test))\n",
        "accRF.append(accuracyRF(X_train_sbs,X_test_sbs, y_train, y_test))\n",
        "accLoR.append(accuracyLoR(X_train_sbs,X_test_sbs, y_train, y_test))"
      ],
      "execution_count": null,
      "outputs": [
        {
          "output_type": "stream",
          "name": "stdout",
          "text": [
            "KNN: 0.625\n",
            "DT: 0.7205882352941176\n",
            "SVM: 0.7205882352941176\n",
            "RF: 0.6985294117647058\n",
            "LoR: 0.6838235294117647\n"
          ]
        }
      ]
    },
    {
      "cell_type": "markdown",
      "metadata": {
        "id": "iIDBsZPUsvN8"
      },
      "source": [
        "Analysis"
      ]
    },
    {
      "cell_type": "code",
      "metadata": {
        "colab": {
          "base_uri": "https://localhost:8080/",
          "height": 283
        },
        "id": "xqqYm8DDsuiz",
        "outputId": "143a119b-a749-479c-f78b-35573da4f442"
      },
      "source": [
        "label = ['Raw', 'Const', 'Quasi', 'Dup', 'Corr', 'uni' ,'Lasso','MI','SFS','SBS']\n",
        "plt.plot(label,accDecision) \n",
        "plt.plot(label,accKnn) #constant accuracy till Lasso\n",
        "plt.plot(label,accSVM)\n",
        "plt.plot(label,accRF)\n",
        "plt.plot(label,accLoR)"
      ],
      "execution_count": null,
      "outputs": [
        {
          "output_type": "execute_result",
          "data": {
            "text/plain": [
              "[<matplotlib.lines.Line2D at 0x7f998a43d110>]"
            ]
          },
          "metadata": {},
          "execution_count": 47
        },
        {
          "output_type": "display_data",
          "data": {
            "image/png": "[encoded data removed]",
            "text/plain": [
              "<Figure size 432x288 with 1 Axes>"
            ]
          },
          "metadata": {
            "needs_background": "light"
          }
        }
      ]
    },
    {
      "cell_type": "code",
      "metadata": {
        "colab": {
          "base_uri": "https://localhost:8080/",
          "height": 237
        },
        "id": "ATLChU2ApLU3",
        "outputId": "5a0f1560-0896-4ea5-e0c6-1421ab48bbe0"
      },
      "source": [
        "from IPython.display import display\n",
        "\n",
        "dict= {'Type':['Raw data','Filter based(basic)', 'Filter based (correlated)', 'Statistical','Embedded', 'Wrapper'], \n",
        "\n",
        "        'Steps' : ['None','Remove Constant, Quasi Constant & Duplicated Features', 'Remove Correlated features (Spearman)', 'Univariate','Lasso','Sequential Feature Selection'], \n",
        "\n",
        "        'KNN' : [63.23,63.23,63.23,64.70,62.5,75.73],\n",
        "        'DT'    :[68.38,68.38,65.44,66.17,72.05,71.32],\n",
        "        'SVM'   :[63.97,63.97,68.38,63.97,72.05,65.44],\n",
        "        'RF'    :[72.05,75,70.58,69.85,69.85,77.94],\n",
        "        'LoR'   :[64.70,64.70,69.11,72.79,68.38,63.97]}\n",
        "\n",
        "df = pd.DataFrame(dict)  \n",
        "display(df)"
      ],
      "execution_count": null,
      "outputs": [
        {
          "output_type": "display_data",
          "data": {
            "text/html": [
              "<div>\n",
              "<style scoped>\n",
              "    .dataframe tbody tr th:only-of-type {\n",
              "        vertical-align: middle;\n",
              "    }\n",
              "\n",
              "    .dataframe tbody tr th {\n",
              "        vertical-align: top;\n",
              "    }\n",
              "\n",
              "    .dataframe thead th {\n",
              "        text-align: right;\n",
              "    }\n",
              "</style>\n",
              "<table border=\"1\" class=\"dataframe\">\n",
              "  <thead>\n",
              "    <tr style=\"text-align: right;\">\n",
              "      <th></th>\n",
              "      <th>Type</th>\n",
              "      <th>Steps</th>\n",
              "      <th>KNN</th>\n",
              "      <th>DT</th>\n",
              "      <th>SVM</th>\n",
              "      <th>RF</th>\n",
              "      <th>LoR</th>\n",
              "    </tr>\n",
              "  </thead>\n",
              "  <tbody>\n",
              "    <tr>\n",
              "      <th>0</th>\n",
              "      <td>Raw data</td>\n",
              "      <td>None</td>\n",
              "      <td>63.23</td>\n",
              "      <td>68.38</td>\n",
              "      <td>63.97</td>\n",
              "      <td>72.05</td>\n",
              "      <td>64.70</td>\n",
              "    </tr>\n",
              "    <tr>\n",
              "      <th>1</th>\n",
              "      <td>Filter based(basic)</td>\n",
              "      <td>Remove Constant, Quasi Constant &amp; Duplicated F...</td>\n",
              "      <td>63.23</td>\n",
              "      <td>68.38</td>\n",
              "      <td>63.97</td>\n",
              "      <td>75.00</td>\n",
              "      <td>64.70</td>\n",
              "    </tr>\n",
              "    <tr>\n",
              "      <th>2</th>\n",
              "      <td>Filter based (correlated)</td>\n",
              "      <td>Remove Correlated features (Spearman)</td>\n",
              "      <td>63.23</td>\n",
              "      <td>65.44</td>\n",
              "      <td>68.38</td>\n",
              "      <td>70.58</td>\n",
              "      <td>69.11</td>\n",
              "    </tr>\n",
              "    <tr>\n",
              "      <th>3</th>\n",
              "      <td>Statistical</td>\n",
              "      <td>Univariate</td>\n",
              "      <td>64.70</td>\n",
              "      <td>66.17</td>\n",
              "      <td>63.97</td>\n",
              "      <td>69.85</td>\n",
              "      <td>72.79</td>\n",
              "    </tr>\n",
              "    <tr>\n",
              "      <th>4</th>\n",
              "      <td>Embedded</td>\n",
              "      <td>Lasso</td>\n",
              "      <td>62.50</td>\n",
              "      <td>72.05</td>\n",
              "      <td>72.05</td>\n",
              "      <td>69.85</td>\n",
              "      <td>68.38</td>\n",
              "    </tr>\n",
              "    <tr>\n",
              "      <th>5</th>\n",
              "      <td>Wrapper</td>\n",
              "      <td>Sequential Feature Selection</td>\n",
              "      <td>75.73</td>\n",
              "      <td>71.32</td>\n",
              "      <td>65.44</td>\n",
              "      <td>77.94</td>\n",
              "      <td>63.97</td>\n",
              "    </tr>\n",
              "  </tbody>\n",
              "</table>\n",
              "</div>"
            ],
            "text/plain": [
              "                        Type  ...    LoR\n",
              "0                   Raw data  ...  64.70\n",
              "1        Filter based(basic)  ...  64.70\n",
              "2  Filter based (correlated)  ...  69.11\n",
              "3                Statistical  ...  72.79\n",
              "4                   Embedded  ...  68.38\n",
              "5                    Wrapper  ...  63.97\n",
              "\n",
              "[6 rows x 7 columns]"
            ]
          },
          "metadata": {}
        }
      ]
    },
    {
      "cell_type": "code",
      "metadata": {
        "colab": {
          "base_uri": "https://localhost:8080/"
        },
        "id": "ArabFXLHG_P6",
        "outputId": "155910b5-c828-4369-aa5f-64844900bebe"
      },
      "source": [
        "# Mean roc_auc_score\n",
        "\n",
        "auc = np.round(roc_auc_score(y_true,y_pred),3)\n",
        "\n",
        "print('Mean Auc score for our data is {}'.format(auc))"
      ],
      "execution_count": null,
      "outputs": [
        {
          "output_type": "stream",
          "name": "stdout",
          "text": [
            "Mean Auc score for our data is 0.784\n"
          ]
        }
      ]
    }
  ]
}